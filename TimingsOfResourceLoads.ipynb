{
 "cells": [
  {
   "cell_type": "markdown",
   "metadata": {},
   "source": [
    "# Web browsers use the network too sparingly\n",
    "\n",
    "Author: alcidesv@shimmercat.com\n",
    "\n",
    "## Abstract\n",
    "\n",
    "The typical HTTP request/response model makes difficult for browsers to use their available bandwidth to fetch the website faster. In this study, we introduce the concept of data transfer density to measure the fraction of time in which the browser is receiving data from the network. Then we apply the measure to timing data from fetching almost 1300 sites, all of them submitted by performance-conscious operators. Our results show that for most sites the initial load of a web page uses the network very sparingly, at between 1/4 and 1/5 of the available capacity. We then show that the situation is reversed by using HTTP/2 Push, as deployed in our website, https://www.shimmercat.com"
   ]
  },
  {
   "cell_type": "markdown",
   "metadata": {},
   "source": [
    "## What is in the dataset\n",
    "\n",
    "The dataset contains page-load times, with individual resources, for each of the 1300 resource page loads.The 1300 sites were submitted by performance-conscious site operators that were evaluating their site's performance. The important bits of the dataset,  anonymized, [are available](https://github.com/shimmercat/art_timings/raw/master/data/clean_dataset.json.xz) for you to make your own measurements. "
   ]
  },
  {
   "cell_type": "markdown",
   "metadata": {},
   "source": [
    "## Notebook initialization and loading the dataset"
   ]
  },
  {
   "cell_type": "code",
   "execution_count": 1,
   "metadata": {
    "collapsed": false
   },
   "outputs": [
    {
     "name": "stdout",
     "output_type": "stream",
     "text": [
      "Using matplotlib backend: GTK3Agg\n",
      "Populating the interactive namespace from numpy and matplotlib\n"
     ]
    }
   ],
   "source": [
    "%pylab\n",
    "%matplotlib inline\n",
    "import matplotlib\n",
    "matplotlib.style.use('ggplot')"
   ]
  },
  {
   "cell_type": "code",
   "execution_count": 2,
   "metadata": {
    "collapsed": false
   },
   "outputs": [],
   "source": [
    "import numpy as np\n",
    "import pandas as pd\n",
    "from glob import glob\n",
    "import os.path\n",
    "import json\n",
    "import lzma\n",
    "import re"
   ]
  },
  {
   "cell_type": "code",
   "execution_count": 3,
   "metadata": {
    "collapsed": false
   },
   "outputs": [],
   "source": [
    " with lzma.open(\"data/clean_dataset.json.xz\", 'rb') as fin:\n",
    "    dataset_s = fin.read().decode('ascii')\n",
    "    dataset = json.loads(dataset_s)"
   ]
  },
  {
   "cell_type": "markdown",
   "metadata": {},
   "source": [
    "Number of data points\n",
    "------------------------\n",
    "\n",
    "That is, how many files there are in our little DB."
   ]
  },
  {
   "cell_type": "code",
   "execution_count": 4,
   "metadata": {
    "collapsed": false
   },
   "outputs": [
    {
     "data": {
      "text/plain": [
       "1299"
      ]
     },
     "execution_count": 4,
     "metadata": {},
     "output_type": "execute_result"
    }
   ],
   "source": [
    "len(dataset)"
   ]
  },
  {
   "cell_type": "markdown",
   "metadata": {},
   "source": [
    "-----------------------------------------------"
   ]
  },
  {
   "cell_type": "code",
   "execution_count": 5,
   "metadata": {
    "collapsed": false
   },
   "outputs": [],
   "source": [
    "counts = pd.DataFrame( list( map( len, dataset ) ), columns=['asset_count'] )"
   ]
  },
  {
   "cell_type": "code",
   "execution_count": 6,
   "metadata": {
    "collapsed": false
   },
   "outputs": [
    {
     "data": {
      "text/html": [
       "<div>\n",
       "<table border=\"1\" class=\"dataframe\">\n",
       "  <thead>\n",
       "    <tr style=\"text-align: right;\">\n",
       "      <th></th>\n",
       "      <th>asset_count</th>\n",
       "    </tr>\n",
       "  </thead>\n",
       "  <tbody>\n",
       "    <tr>\n",
       "      <th>0</th>\n",
       "      <td>135</td>\n",
       "    </tr>\n",
       "    <tr>\n",
       "      <th>1</th>\n",
       "      <td>157</td>\n",
       "    </tr>\n",
       "    <tr>\n",
       "      <th>2</th>\n",
       "      <td>81</td>\n",
       "    </tr>\n",
       "    <tr>\n",
       "      <th>3</th>\n",
       "      <td>425</td>\n",
       "    </tr>\n",
       "    <tr>\n",
       "      <th>4</th>\n",
       "      <td>18</td>\n",
       "    </tr>\n",
       "  </tbody>\n",
       "</table>\n",
       "</div>"
      ],
      "text/plain": [
       "   asset_count\n",
       "0          135\n",
       "1          157\n",
       "2           81\n",
       "3          425\n",
       "4           18"
      ]
     },
     "execution_count": 6,
     "metadata": {},
     "output_type": "execute_result"
    }
   ],
   "source": [
    "counts[:5]"
   ]
  },
  {
   "cell_type": "code",
   "execution_count": 7,
   "metadata": {
    "collapsed": false
   },
   "outputs": [
    {
     "data": {
      "text/plain": [
       "count    1218.000000\n",
       "mean       85.719212\n",
       "std        96.957801\n",
       "min         6.000000\n",
       "25%        25.000000\n",
       "50%        54.000000\n",
       "75%       108.000000\n",
       "max       921.000000\n",
       "Name: asset_count, dtype: float64"
      ]
     },
     "execution_count": 7,
     "metadata": {},
     "output_type": "execute_result"
    }
   ],
   "source": [
    "counts_clean = counts.query('asset_count > 5')\n",
    "counts_clean['asset_count'].describe()"
   ]
  },
  {
   "cell_type": "code",
   "execution_count": 8,
   "metadata": {
    "collapsed": false
   },
   "outputs": [
    {
     "data": {
      "text/plain": [
       "<matplotlib.axes._subplots.AxesSubplot at 0x7f654d8857b8>"
      ]
     },
     "execution_count": 8,
     "metadata": {},
     "output_type": "execute_result"
    },
    {
     "data": {
      "image/png": "[encoded data removed]",
      "text/plain": [
       "<matplotlib.figure.Figure at 0x7f657c0a1b38>"
      ]
     },
     "metadata": {},
     "output_type": "display_data"
    }
   ],
   "source": [
    "counts_clean.plot(kind='hist')"
   ]
  },
  {
   "cell_type": "markdown",
   "metadata": {},
   "source": [
    "The number above should be used as our total of data-points: \n",
    "1233"
   ]
  },
  {
   "cell_type": "markdown",
   "metadata": {},
   "source": [
    "----------------------"
   ]
  },
  {
   "cell_type": "markdown",
   "metadata": {},
   "source": [
    "## When the first request can actually start"
   ]
  },
  {
   "cell_type": "code",
   "execution_count": 9,
   "metadata": {
    "collapsed": true
   },
   "outputs": [],
   "source": [
    "def extract_stoppers(entries_list):\n",
    "    first_entry = entries_list[0]['timings']\n",
    "    connect_time = first_entry['connect']\n",
    "    dns_time = first_entry['dns']\n",
    "    ssl = first_entry.get('ssl', 0)\n",
    "    wait = first_entry.get('wait')\n",
    "    return {\n",
    "         'connect': connect_time,\n",
    "         'dns': dns_time,\n",
    "         'ssl': ssl,\n",
    "         'wait': wait\n",
    "        }"
   ]
  },
  {
   "cell_type": "code",
   "execution_count": 10,
   "metadata": {
    "collapsed": false
   },
   "outputs": [
    {
     "data": {
      "text/html": [
       "<div>\n",
       "<table border=\"1\" class=\"dataframe\">\n",
       "  <thead>\n",
       "    <tr style=\"text-align: right;\">\n",
       "      <th></th>\n",
       "      <th>connect</th>\n",
       "      <th>dns</th>\n",
       "      <th>ssl</th>\n",
       "      <th>wait</th>\n",
       "    </tr>\n",
       "  </thead>\n",
       "  <tbody>\n",
       "    <tr>\n",
       "      <th>0</th>\n",
       "      <td>248.055</td>\n",
       "      <td>410.190000</td>\n",
       "      <td>215.08</td>\n",
       "      <td>35.995999</td>\n",
       "    </tr>\n",
       "    <tr>\n",
       "      <th>1</th>\n",
       "      <td>44.974</td>\n",
       "      <td>192.953000</td>\n",
       "      <td>-1.00</td>\n",
       "      <td>275.657000</td>\n",
       "    </tr>\n",
       "    <tr>\n",
       "      <th>2</th>\n",
       "      <td>166.749</td>\n",
       "      <td>182.938000</td>\n",
       "      <td>-1.00</td>\n",
       "      <td>166.886000</td>\n",
       "    </tr>\n",
       "    <tr>\n",
       "      <th>3</th>\n",
       "      <td>8.034</td>\n",
       "      <td>246.746000</td>\n",
       "      <td>-1.00</td>\n",
       "      <td>123.576000</td>\n",
       "    </tr>\n",
       "    <tr>\n",
       "      <th>4</th>\n",
       "      <td>24.032</td>\n",
       "      <td>1.269001</td>\n",
       "      <td>-1.00</td>\n",
       "      <td>30.242000</td>\n",
       "    </tr>\n",
       "  </tbody>\n",
       "</table>\n",
       "</div>"
      ],
      "text/plain": [
       "   connect         dns     ssl        wait\n",
       "0  248.055  410.190000  215.08   35.995999\n",
       "1   44.974  192.953000   -1.00  275.657000\n",
       "2  166.749  182.938000   -1.00  166.886000\n",
       "3    8.034  246.746000   -1.00  123.576000\n",
       "4   24.032    1.269001   -1.00   30.242000"
      ]
     },
     "execution_count": 10,
     "metadata": {},
     "output_type": "execute_result"
    }
   ],
   "source": [
    "stoppers = list( map( extract_stoppers, dataset) )\n",
    "stoppers_df = pd.DataFrame(stoppers)\n",
    "stoppers_df[:5]"
   ]
  },
  {
   "cell_type": "code",
   "execution_count": 11,
   "metadata": {
    "collapsed": false
   },
   "outputs": [
    {
     "data": {
      "text/html": [
       "<div>\n",
       "<table border=\"1\" class=\"dataframe\">\n",
       "  <thead>\n",
       "    <tr style=\"text-align: right;\">\n",
       "      <th></th>\n",
       "      <th>connect</th>\n",
       "      <th>dns</th>\n",
       "      <th>ssl</th>\n",
       "      <th>wait</th>\n",
       "    </tr>\n",
       "  </thead>\n",
       "  <tbody>\n",
       "    <tr>\n",
       "      <th>0</th>\n",
       "      <td>248.055</td>\n",
       "      <td>410.190000</td>\n",
       "      <td>215.08</td>\n",
       "      <td>35.995999</td>\n",
       "    </tr>\n",
       "    <tr>\n",
       "      <th>1</th>\n",
       "      <td>44.974</td>\n",
       "      <td>192.953000</td>\n",
       "      <td>-1.00</td>\n",
       "      <td>275.657000</td>\n",
       "    </tr>\n",
       "    <tr>\n",
       "      <th>2</th>\n",
       "      <td>166.749</td>\n",
       "      <td>182.938000</td>\n",
       "      <td>-1.00</td>\n",
       "      <td>166.886000</td>\n",
       "    </tr>\n",
       "    <tr>\n",
       "      <th>3</th>\n",
       "      <td>8.034</td>\n",
       "      <td>246.746000</td>\n",
       "      <td>-1.00</td>\n",
       "      <td>123.576000</td>\n",
       "    </tr>\n",
       "    <tr>\n",
       "      <th>4</th>\n",
       "      <td>24.032</td>\n",
       "      <td>1.269001</td>\n",
       "      <td>-1.00</td>\n",
       "      <td>30.242000</td>\n",
       "    </tr>\n",
       "  </tbody>\n",
       "</table>\n",
       "</div>"
      ],
      "text/plain": [
       "   connect         dns     ssl        wait\n",
       "0  248.055  410.190000  215.08   35.995999\n",
       "1   44.974  192.953000   -1.00  275.657000\n",
       "2  166.749  182.938000   -1.00  166.886000\n",
       "3    8.034  246.746000   -1.00  123.576000\n",
       "4   24.032    1.269001   -1.00   30.242000"
      ]
     },
     "execution_count": 11,
     "metadata": {},
     "output_type": "execute_result"
    }
   ],
   "source": [
    "stoppers_df_clean = stoppers_df.query('connect > 0')\n",
    "stoppers_df_clean[:5]"
   ]
  },
  {
   "cell_type": "markdown",
   "metadata": {},
   "source": [
    "### How the bare connection times are distributed\n",
    "\n",
    "This does not include DNS or SSL times"
   ]
  },
  {
   "cell_type": "code",
   "execution_count": 12,
   "metadata": {
    "collapsed": false
   },
   "outputs": [
    {
     "data": {
      "text/plain": [
       "<matplotlib.axes._subplots.AxesSubplot at 0x7f654d823240>"
      ]
     },
     "execution_count": 12,
     "metadata": {},
     "output_type": "execute_result"
    },
    {
     "data": {
      "image/png": "[encoded data removed]",
      "text/plain": [
       "<matplotlib.figure.Figure at 0x7f654d856240>"
      ]
     },
     "metadata": {},
     "output_type": "display_data"
    }
   ],
   "source": [
    "stoppers_df_clean['connect'].plot(kind='hist', bins=np.arange(0,1000,25))"
   ]
  },
  {
   "cell_type": "markdown",
   "metadata": {},
   "source": [
    "≽ There seems to be two modes. My guess for those are some sites are in EE.UU. (same place where the browser that made the measurements is located) and som are in Europe."
   ]
  },
  {
   "cell_type": "markdown",
   "metadata": {},
   "source": [
    "### How the total times are distributed for connections without SSL"
   ]
  },
  {
   "cell_type": "code",
   "execution_count": 13,
   "metadata": {
    "collapsed": false
   },
   "outputs": [
    {
     "data": {
      "text/html": [
       "<div>\n",
       "<table border=\"1\" class=\"dataframe\">\n",
       "  <thead>\n",
       "    <tr style=\"text-align: right;\">\n",
       "      <th></th>\n",
       "      <th>connect</th>\n",
       "      <th>dns</th>\n",
       "      <th>ssl</th>\n",
       "      <th>wait</th>\n",
       "    </tr>\n",
       "  </thead>\n",
       "  <tbody>\n",
       "    <tr>\n",
       "      <th>1</th>\n",
       "      <td>44.974</td>\n",
       "      <td>192.953000</td>\n",
       "      <td>-1</td>\n",
       "      <td>275.657</td>\n",
       "    </tr>\n",
       "    <tr>\n",
       "      <th>2</th>\n",
       "      <td>166.749</td>\n",
       "      <td>182.938000</td>\n",
       "      <td>-1</td>\n",
       "      <td>166.886</td>\n",
       "    </tr>\n",
       "    <tr>\n",
       "      <th>3</th>\n",
       "      <td>8.034</td>\n",
       "      <td>246.746000</td>\n",
       "      <td>-1</td>\n",
       "      <td>123.576</td>\n",
       "    </tr>\n",
       "    <tr>\n",
       "      <th>4</th>\n",
       "      <td>24.032</td>\n",
       "      <td>1.269001</td>\n",
       "      <td>-1</td>\n",
       "      <td>30.242</td>\n",
       "    </tr>\n",
       "    <tr>\n",
       "      <th>8</th>\n",
       "      <td>175.758</td>\n",
       "      <td>455.540000</td>\n",
       "      <td>-1</td>\n",
       "      <td>232.651</td>\n",
       "    </tr>\n",
       "  </tbody>\n",
       "</table>\n",
       "</div>"
      ],
      "text/plain": [
       "   connect         dns  ssl     wait\n",
       "1   44.974  192.953000   -1  275.657\n",
       "2  166.749  182.938000   -1  166.886\n",
       "3    8.034  246.746000   -1  123.576\n",
       "4   24.032    1.269001   -1   30.242\n",
       "8  175.758  455.540000   -1  232.651"
      ]
     },
     "execution_count": 13,
     "metadata": {},
     "output_type": "execute_result"
    }
   ],
   "source": [
    "stoppers_nossl_clean = stoppers_df_clean.query('ssl == -1')\n",
    "stoppers_nossl_clean[:5]"
   ]
  },
  {
   "cell_type": "code",
   "execution_count": 14,
   "metadata": {
    "collapsed": false
   },
   "outputs": [
    {
     "data": {
      "text/plain": [
       "1    237.927\n",
       "2    349.687\n",
       "3    254.780\n",
       "4     25.301\n",
       "8    631.298\n",
       "dtype: float64"
      ]
     },
     "execution_count": 14,
     "metadata": {},
     "output_type": "execute_result"
    }
   ],
   "source": [
    "full_nossl_stoppers = (\n",
    "    stoppers_nossl_clean['connect']+stoppers_nossl_clean['dns']\n",
    ")\n",
    "full_nossl_stoppers[:5]"
   ]
  },
  {
   "cell_type": "code",
   "execution_count": 39,
   "metadata": {
    "collapsed": false
   },
   "outputs": [
    {
     "data": {
      "text/plain": [
       "count     766.000000\n",
       "mean      308.352056\n",
       "std       316.510355\n",
       "min         1.459000\n",
       "5%         17.230000\n",
       "10%        24.942500\n",
       "25%        90.990000\n",
       "50%       219.612500\n",
       "75%       403.744750\n",
       "80%       481.350000\n",
       "90%       676.844000\n",
       "95%       868.763000\n",
       "max      2595.431000\n",
       "dtype: float64"
      ]
     },
     "execution_count": 39,
     "metadata": {},
     "output_type": "execute_result"
    }
   ],
   "source": [
    "full_nossl_stoppers.describe(percentiles=[0.05, 0.10, 0.25, 0.50, 0.75, 0.80, 0.90, 0.95])"
   ]
  },
  {
   "cell_type": "markdown",
   "metadata": {},
   "source": [
    "### How the total times are distributed for connections with SSL"
   ]
  },
  {
   "cell_type": "code",
   "execution_count": 16,
   "metadata": {
    "collapsed": false
   },
   "outputs": [
    {
     "data": {
      "text/html": [
       "<div>\n",
       "<table border=\"1\" class=\"dataframe\">\n",
       "  <thead>\n",
       "    <tr style=\"text-align: right;\">\n",
       "      <th></th>\n",
       "      <th>connect</th>\n",
       "      <th>dns</th>\n",
       "      <th>ssl</th>\n",
       "      <th>wait</th>\n",
       "    </tr>\n",
       "  </thead>\n",
       "  <tbody>\n",
       "    <tr>\n",
       "      <th>0</th>\n",
       "      <td>248.055000</td>\n",
       "      <td>410.190</td>\n",
       "      <td>215.080</td>\n",
       "      <td>35.995999</td>\n",
       "    </tr>\n",
       "    <tr>\n",
       "      <th>5</th>\n",
       "      <td>338.042000</td>\n",
       "      <td>0.783</td>\n",
       "      <td>171.889</td>\n",
       "      <td>583.673000</td>\n",
       "    </tr>\n",
       "    <tr>\n",
       "      <th>6</th>\n",
       "      <td>364.349999</td>\n",
       "      <td>547.143</td>\n",
       "      <td>192.664</td>\n",
       "      <td>172.649000</td>\n",
       "    </tr>\n",
       "    <tr>\n",
       "      <th>7</th>\n",
       "      <td>74.965999</td>\n",
       "      <td>33.080</td>\n",
       "      <td>66.908</td>\n",
       "      <td>51.791000</td>\n",
       "    </tr>\n",
       "    <tr>\n",
       "      <th>9</th>\n",
       "      <td>26.235000</td>\n",
       "      <td>1.444</td>\n",
       "      <td>19.094</td>\n",
       "      <td>31.299000</td>\n",
       "    </tr>\n",
       "  </tbody>\n",
       "</table>\n",
       "</div>"
      ],
      "text/plain": [
       "      connect      dns      ssl        wait\n",
       "0  248.055000  410.190  215.080   35.995999\n",
       "5  338.042000    0.783  171.889  583.673000\n",
       "6  364.349999  547.143  192.664  172.649000\n",
       "7   74.965999   33.080   66.908   51.791000\n",
       "9   26.235000    1.444   19.094   31.299000"
      ]
     },
     "execution_count": 16,
     "metadata": {},
     "output_type": "execute_result"
    }
   ],
   "source": [
    "stoppers_ssl_clean = stoppers_df_clean.query('ssl > 0')\n",
    "stoppers_ssl_clean[:5]"
   ]
  },
  {
   "cell_type": "markdown",
   "metadata": {},
   "source": [
    "#### SSL connection time"
   ]
  },
  {
   "cell_type": "code",
   "execution_count": 17,
   "metadata": {
    "collapsed": false
   },
   "outputs": [
    {
     "data": {
      "text/plain": [
       "<matplotlib.axes._subplots.AxesSubplot at 0x7f654d68e668>"
      ]
     },
     "execution_count": 17,
     "metadata": {},
     "output_type": "execute_result"
    },
    {
     "data": {
      "image/png": "[encoded data removed]",
      "text/plain": [
       "<matplotlib.figure.Figure at 0x7f654d6f3198>"
      ]
     },
     "metadata": {},
     "output_type": "display_data"
    }
   ],
   "source": [
    "stoppers_ssl_clean['ssl'].plot(kind='hist', bins=np.arange(0,1000,25))"
   ]
  },
  {
   "cell_type": "code",
   "execution_count": 18,
   "metadata": {
    "collapsed": false
   },
   "outputs": [
    {
     "data": {
      "text/plain": [
       "count     388.000000\n",
       "mean      213.935379\n",
       "std       296.875515\n",
       "min         9.387000\n",
       "25%        32.193000\n",
       "50%       157.536500\n",
       "75%       313.120250\n",
       "max      3979.796000\n",
       "Name: ssl, dtype: float64"
      ]
     },
     "execution_count": 18,
     "metadata": {},
     "output_type": "execute_result"
    }
   ],
   "source": [
    "stoppers_ssl_clean['ssl'].describe()"
   ]
  },
  {
   "cell_type": "markdown",
   "metadata": {},
   "source": [
    "#### All the time that clients communicating via SSL need to wait before issuing the first request"
   ]
  },
  {
   "cell_type": "code",
   "execution_count": 19,
   "metadata": {
    "collapsed": false
   },
   "outputs": [
    {
     "data": {
      "text/plain": [
       "0     873.325001\n",
       "5     510.714000\n",
       "6    1104.157000\n",
       "7     174.954000\n",
       "9      46.773000\n",
       "dtype: float64"
      ]
     },
     "execution_count": 19,
     "metadata": {},
     "output_type": "execute_result"
    }
   ],
   "source": [
    "full_stoppers = (\n",
    "    stoppers_ssl_clean['ssl']+stoppers_ssl_clean['connect']+stoppers_ssl_clean['dns']\n",
    ")\n",
    "full_stoppers[:5]"
   ]
  },
  {
   "cell_type": "code",
   "execution_count": 40,
   "metadata": {
    "collapsed": false
   },
   "outputs": [
    {
     "data": {
      "text/plain": [
       "count     388.000000\n",
       "mean      673.190067\n",
       "std       765.692759\n",
       "min        36.078000\n",
       "5%         49.747650\n",
       "10%        68.972600\n",
       "25%       113.160000\n",
       "50%       513.419000\n",
       "75%       969.809500\n",
       "80%      1110.823000\n",
       "90%      1476.443700\n",
       "95%      1829.102000\n",
       "max      8416.813000\n",
       "dtype: float64"
      ]
     },
     "execution_count": 40,
     "metadata": {},
     "output_type": "execute_result"
    }
   ],
   "source": [
    "full_stoppers.describe(percentiles=[0.05, 0.10, 0.25, 0.50, 0.75, 0.80, 0.90, 0.95])"
   ]
  },
  {
   "cell_type": "markdown",
   "metadata": {},
   "source": [
    "That is, the mean time is well over half a second.The difference of mean with the connections that don't use SSL is 673 - 459 = 214, very close to the mean SSL connection time."
   ]
  },
  {
   "cell_type": "code",
   "execution_count": 21,
   "metadata": {
    "collapsed": false
   },
   "outputs": [
    {
     "data": {
      "text/plain": [
       "<matplotlib.axes._subplots.AxesSubplot at 0x7f654d57ad30>"
      ]
     },
     "execution_count": 21,
     "metadata": {},
     "output_type": "execute_result"
    },
    {
     "data": {
      "image/png": "[encoded data removed]",
      "text/plain": [
       "<matplotlib.figure.Figure at 0x7f654d585e10>"
      ]
     },
     "metadata": {},
     "output_type": "display_data"
    }
   ],
   "source": [
    "full_stoppers.plot(kind='hist', bins=np.arange(0,1500,25))"
   ]
  },
  {
   "cell_type": "markdown",
   "metadata": {},
   "source": [
    "## How much remains unused\n",
    "\n",
    "This section explores which part of the loading time of web pages goes empty, meaning that no data is being received by the browser."
   ]
  },
  {
   "cell_type": "markdown",
   "metadata": {},
   "source": [
    "### Sets of intervals\n",
    "\n",
    "The idea here is that it is possible to construct an interval that goes from the time when the first byte for a response to a request is received and then goes until when the last byte for that response is received. We know with security that during this time interval, the browser is receiving data. \n",
    "\n",
    "Then we want to research the *data transfer density*. We can express this concept as follows: if a chronometer is started as soon as the **first byte from the server is received**, and stopped at any ulterior point, the data transfer density is the probability at that point in time of the browser to be receiving data required to render the page via the network. Notice that we don't include the stoppers time we detailed before, nor the waiting time for the data on the response to the first request. Therefore, an ideal page load would be one where the data transfer density is very close to one at the beginning, and then abruptly drops to zero when the page is done loading. In practice this doesn't happen because the browser discovers which assets it needs incrementally.\n",
    "\n",
    "In order to compute the data transfer density, we have to merge the times interval corresponding to each response, taking into account that data for multiple responses can be coming in parallel."
   ]
  },
  {
   "cell_type": "code",
   "execution_count": 22,
   "metadata": {
    "collapsed": true
   },
   "outputs": [],
   "source": [
    "def merge_sets_step(s1):\n",
    "\n",
    "    # Take the first interval\n",
    "    fi = s1[0]\n",
    "    fi_start, fi_end = fi \n",
    "    r_start = fi_start\n",
    "    r_end = fi_end\n",
    "    # Take the other intervals, and see if we can merge them\n",
    "    for (_i,ai) in enumerate(s1[1:]):\n",
    "        ai_start, ai_end = ai \n",
    "        if ai_start <= r_end:\n",
    "            # A merge is possible \n",
    "            r_end = ai_end \n",
    "        else:\n",
    "            # A merge is not possible. Since the intervals \n",
    "            # are sorted by their starting point, the next \n",
    "            # interval will start at a more distant place. \n",
    "            # Finish by returning the new merged big interval\n",
    "            # and the rest of the sorted set.... \n",
    "            return ((r_start, r_end), s1[_i+1:])\n",
    "    # If I arrive here, it is just a big one\n",
    "    return ((r_start, r_end), [])\n",
    "\n",
    "def merge_interval_sets(iterable_of_intervals):\n",
    "    # Sort the intervals ... \n",
    "    s1 = sorted(iterable_of_intervals, key=(lambda i: i[0]))\n",
    "    si = s1\n",
    "    disjoint_intervals = []\n",
    "    disjoint_voids = []\n",
    "    mi_end_prev = None\n",
    "    while len(si) > 0:\n",
    "        (merged_interval, si_next) = merge_sets_step(si)\n",
    "        mi_start, mi_end = merged_interval\n",
    "        if mi_end_prev:\n",
    "            disjoint_voids.append((mi_end_prev, mi_start))\n",
    "        mi_end_prev = mi_end\n",
    "        disjoint_intervals.append(merged_interval)\n",
    "        si = si_next\n",
    "    return (disjoint_intervals, disjoint_voids)"
   ]
  },
  {
   "cell_type": "markdown",
   "metadata": {},
   "source": [
    "Let's just test a little bit the merge intervals function."
   ]
  },
  {
   "cell_type": "code",
   "execution_count": 23,
   "metadata": {
    "collapsed": false
   },
   "outputs": [
    {
     "data": {
      "text/plain": [
       "((0, 1), [(2, 3)])"
      ]
     },
     "execution_count": 23,
     "metadata": {},
     "output_type": "execute_result"
    }
   ],
   "source": [
    "merge_sets_step([\n",
    "        (0,1),\n",
    "        (2,3)\n",
    "    ])"
   ]
  },
  {
   "cell_type": "code",
   "execution_count": 24,
   "metadata": {
    "collapsed": false
   },
   "outputs": [
    {
     "data": {
      "text/plain": [
       "((0, 1.5), [(2, 3)])"
      ]
     },
     "execution_count": 24,
     "metadata": {},
     "output_type": "execute_result"
    }
   ],
   "source": [
    "merge_sets_step([\n",
    "        (0,1),\n",
    "        (0.5,1.5),\n",
    "        (2,3)\n",
    "    ])"
   ]
  },
  {
   "cell_type": "code",
   "execution_count": 25,
   "metadata": {
    "collapsed": false
   },
   "outputs": [
    {
     "data": {
      "text/plain": [
       "((0, 3), [])"
      ]
     },
     "execution_count": 25,
     "metadata": {},
     "output_type": "execute_result"
    }
   ],
   "source": [
    "merge_sets_step([\n",
    "        (0,1),\n",
    "        (0.5,2.5),\n",
    "        (2,3)\n",
    "    ])"
   ]
  },
  {
   "cell_type": "code",
   "execution_count": 26,
   "metadata": {
    "collapsed": false
   },
   "outputs": [
    {
     "data": {
      "text/plain": [
       "([(0, 3)], [])"
      ]
     },
     "execution_count": 26,
     "metadata": {},
     "output_type": "execute_result"
    }
   ],
   "source": [
    "merge_interval_sets([\n",
    "        (0,1),\n",
    "        (0.5,2.5),\n",
    "        (2,3)\n",
    "    ])"
   ]
  },
  {
   "cell_type": "code",
   "execution_count": 27,
   "metadata": {
    "collapsed": false
   },
   "outputs": [
    {
     "data": {
      "text/plain": [
       "([(0, 1.5), (2, 4), (4.01, 6)], [(1.5, 2), (4, 4.01)])"
      ]
     },
     "execution_count": 27,
     "metadata": {},
     "output_type": "execute_result"
    }
   ],
   "source": [
    "merge_interval_sets([\n",
    "        (0,1),\n",
    "        (0.5,1.5),\n",
    "        (2,3),\n",
    "        (3,4),\n",
    "        (4.01, 6)\n",
    "    ])"
   ]
  },
  {
   "cell_type": "markdown",
   "metadata": {},
   "source": [
    "Looks good, let's continue."
   ]
  },
  {
   "cell_type": "markdown",
   "metadata": {},
   "source": [
    "### Parsing the date-times"
   ]
  },
  {
   "cell_type": "markdown",
   "metadata": {},
   "source": [
    "This is how the starting times of a request look in the jar file."
   ]
  },
  {
   "cell_type": "code",
   "execution_count": 28,
   "metadata": {
    "collapsed": false
   },
   "outputs": [
    {
     "data": {
      "text/plain": [
       "'2015-12-01T08:37:30.598Z'"
      ]
     },
     "execution_count": 28,
     "metadata": {},
     "output_type": "execute_result"
    }
   ],
   "source": [
    "dtsample = dataset[0][0]['startedDateTime']\n",
    "dtsample"
   ]
  },
  {
   "cell_type": "markdown",
   "metadata": {},
   "source": [
    "Python datetime function is unable to directly parse this type of data, so let's just do it by hand..."
   ]
  },
  {
   "cell_type": "code",
   "execution_count": 29,
   "metadata": {
    "collapsed": true
   },
   "outputs": [],
   "source": [
    "rgx_ = re.compile( 'T([0-9]{2}):([0-9]{2}):([0-9]{2}\\.[0-9]*)Z' )\n",
    "ms_ = 1000\n",
    "def dt2milliseconds(dtval):\n",
    "    mo = re.search(rgx_, dtval)\n",
    "    milliseconds = \\\n",
    "       int( mo.group(1) )*3600*ms_ + \\\n",
    "       int( mo.group(2) )*60*ms_ + \\\n",
    "       float( mo.group(3) )*ms_\n",
    "    return milliseconds"
   ]
  },
  {
   "cell_type": "markdown",
   "metadata": {},
   "source": [
    "### Deducing the intervals from the timings\n",
    "\n",
    "Using the 'timings' key in the dataset entries, and the started time, let's deduce an interval as a tuple with the start and end time in milliseconds."
   ]
  },
  {
   "cell_type": "code",
   "execution_count": 30,
   "metadata": {
    "collapsed": true
   },
   "outputs": [],
   "source": [
    "def deduce_interval_optimistic(timings, starts_dtval):\n",
    "    # Uses the timings entry in each fetch and its starting time \n",
    "    # to deduce a set of \"inhabited\" intervals and a set of \n",
    "    # \"populated\" intervals. \n",
    "    mseconds_start = dt2milliseconds(starts_dtval)\n",
    "    connect = timings.get('connect',0)\n",
    "    dns = timings.get('dns', 0)\n",
    "    blocked = timings.get('blocked', 0)\n",
    "    # Chrome uses '-1' to signal that the timing doesn't apply\n",
    "    if connect < 0:\n",
    "        connect = 0\n",
    "    if dns < 0: \n",
    "        dns = 0\n",
    "    ssl = timings.get('ssl', 0)\n",
    "    if ssl < 0:\n",
    "        ssl = 0\n",
    "    send = timings.get('send')\n",
    "    wait = timings.get('wait')\n",
    "    receive = timings.get('receive')\n",
    "    \n",
    "    starts_receiving = mseconds_start + connect + dns + ssl + send + wait\n",
    "    ends_receiving = starts_receiving + receive\n",
    "    return (starts_receiving, ends_receiving)"
   ]
  },
  {
   "cell_type": "markdown",
   "metadata": {},
   "source": [
    "The function below takes all the intervals, merges and summarizes them. However, instead of looking to the time when data is being received, we look to the part when data is **not** being received. We call those intervals when the browser is not receiving data from the network, *voids*."
   ]
  },
  {
   "cell_type": "code",
   "execution_count": 31,
   "metadata": {
    "collapsed": true
   },
   "outputs": [],
   "source": [
    "def summarize_intervals_from_entries(entries):\n",
    "    # Function to return a Pandas' data frame with all the \n",
    "    # intervals in the file, after merging them.\n",
    "    #\n",
    "    if len(entries) <= 2:\n",
    "        return None\n",
    "    # returns a data frame with the void times, their lengths, \n",
    "    # the void_end and so so...\n",
    "    all_file_intervals = [\n",
    "        deduce_interval_optimistic(entry['timings'], entry['startedDateTime'])\n",
    "        for entry in entries\n",
    "    ]\n",
    "    # Two sets of complimentary, non overlapping intervals. \n",
    "    # The first set (non overlapping) intervals represents when data is being received \n",
    "    # from the server. The second set  represents when no data is being received.\n",
    "    data_traffic_intervals, void_intervals = merge_interval_sets(all_file_intervals)\n",
    "    # zero: when the first byte of data of a response. That is, it doesn't\n",
    "    # count the first wait that the browser did. \n",
    "    zero = data_traffic_intervals[0][0]\n",
    "    # How much time not-data has been received.\n",
    "    cumulative_void = 0\n",
    "    # How much total time data has been received \n",
    "    cumulative_full = 0\n",
    "    idata = []\n",
    "    for y in void_intervals:\n",
    "        a,b = y\n",
    "        if a - zero > 4000:\n",
    "            break\n",
    "        cumulative_void += (b - a)\n",
    "        void_start = a - zero\n",
    "        void_end = b - zero\n",
    "        unused_time_proportion = cumulative_void / void_end\n",
    "        idata.append({\n",
    "            'unused_prop': unused_time_proportion,\n",
    "            'void_start': void_start, \n",
    "            'void_length': b - a,\n",
    "            'void_end': void_end,\n",
    "            'total_void': cumulative_void, \n",
    "            'dtd': 1 - unused_time_proportion\n",
    "        })\n",
    "    idata_df = pd.DataFrame( \n",
    "        idata , \n",
    "        columns=['void_start', 'void_length', 'void_end', 'total_void', 'unused_prop', 'dtd']\n",
    "    )\n",
    "    return idata_df"
   ]
  },
  {
   "cell_type": "markdown",
   "metadata": {},
   "source": [
    "This is how it looks for a single entry in the dataset:"
   ]
  },
  {
   "cell_type": "code",
   "execution_count": 32,
   "metadata": {
    "collapsed": false
   },
   "outputs": [
    {
     "data": {
      "text/html": [
       "<div>\n",
       "<table border=\"1\" class=\"dataframe\">\n",
       "  <thead>\n",
       "    <tr style=\"text-align: right;\">\n",
       "      <th></th>\n",
       "      <th>void_start</th>\n",
       "      <th>void_length</th>\n",
       "      <th>void_end</th>\n",
       "      <th>total_void</th>\n",
       "      <th>unused_prop</th>\n",
       "      <th>dtd</th>\n",
       "    </tr>\n",
       "  </thead>\n",
       "  <tbody>\n",
       "    <tr>\n",
       "      <th>0</th>\n",
       "      <td>1.702937</td>\n",
       "      <td>5.798064</td>\n",
       "      <td>7.501001</td>\n",
       "      <td>5.798064</td>\n",
       "      <td>0.772972</td>\n",
       "      <td>0.227028</td>\n",
       "    </tr>\n",
       "    <tr>\n",
       "      <th>1</th>\n",
       "      <td>7.887998</td>\n",
       "      <td>6.815003</td>\n",
       "      <td>14.703001</td>\n",
       "      <td>12.613066</td>\n",
       "      <td>0.857857</td>\n",
       "      <td>0.142143</td>\n",
       "    </tr>\n",
       "    <tr>\n",
       "      <th>2</th>\n",
       "      <td>15.480956</td>\n",
       "      <td>5.445044</td>\n",
       "      <td>20.926000</td>\n",
       "      <td>18.058110</td>\n",
       "      <td>0.862951</td>\n",
       "      <td>0.137049</td>\n",
       "    </tr>\n",
       "    <tr>\n",
       "      <th>3</th>\n",
       "      <td>23.287823</td>\n",
       "      <td>0.886178</td>\n",
       "      <td>24.174001</td>\n",
       "      <td>18.944289</td>\n",
       "      <td>0.783664</td>\n",
       "      <td>0.216336</td>\n",
       "    </tr>\n",
       "    <tr>\n",
       "      <th>4</th>\n",
       "      <td>26.569071</td>\n",
       "      <td>0.635930</td>\n",
       "      <td>27.205001</td>\n",
       "      <td>19.580219</td>\n",
       "      <td>0.719729</td>\n",
       "      <td>0.280271</td>\n",
       "    </tr>\n",
       "  </tbody>\n",
       "</table>\n",
       "</div>"
      ],
      "text/plain": [
       "   void_start  void_length   void_end  total_void  unused_prop       dtd\n",
       "0    1.702937     5.798064   7.501001    5.798064     0.772972  0.227028\n",
       "1    7.887998     6.815003  14.703001   12.613066     0.857857  0.142143\n",
       "2   15.480956     5.445044  20.926000   18.058110     0.862951  0.137049\n",
       "3   23.287823     0.886178  24.174001   18.944289     0.783664  0.216336\n",
       "4   26.569071     0.635930  27.205001   19.580219     0.719729  0.280271"
      ]
     },
     "execution_count": 32,
     "metadata": {},
     "output_type": "execute_result"
    }
   ],
   "source": [
    "file_entries = dataset[0]\n",
    "summary = summarize_intervals_from_entries(file_entries)\n",
    "summary[:5]"
   ]
  },
  {
   "cell_type": "markdown",
   "metadata": {},
   "source": [
    "In the table above, the variable `unused_prop` represents the complement of the data transfer density. That is, the higher `unused_prop`, the lowest the data transfer density. "
   ]
  },
  {
   "cell_type": "markdown",
   "metadata": {},
   "source": [
    "## Calculating and summarizing the void time for all the points of the sample\n",
    "\n",
    "We are going to calculate the data transfer density at the boundary of every void. To have a way to compare data transfer density from different sites in the data set, we are going to roughly estimate which of those boundaries correspond to 1/10 fractions of the load. Then we are going to summarize the data transfer density at those points."
   ]
  },
  {
   "cell_type": "code",
   "execution_count": 33,
   "metadata": {
    "collapsed": true
   },
   "outputs": [],
   "source": [
    "# Returns some quantiles. The quantiles are \n",
    "# in the \"request no\" axis, that is, the 25% percentile\n",
    "# shows the situation when 25% of the requests for that \n",
    "# particular entries file has been processed. \n",
    "quantile_labels = [\"quant {0:0.2f}\".format(ff) for ff in np.linspace(0,1,11)][:-1]\n",
    "def void_time_quantiles(summary):\n",
    "    entry_count = summary.index.shape[0]\n",
    "    if entry_count < 10:\n",
    "        return None\n",
    "    sample_indices = np.floor( np.linspace(0, entry_count, 11)[:-1] ).astype(int)\n",
    "    #print(entry_count, sample_indices)\n",
    "    quantiles = summary['dtd'].irow(sample_indices)\n",
    "    row=dict(zip(quantile_labels, quantiles))\n",
    "    return row"
   ]
  },
  {
   "cell_type": "code",
   "execution_count": 34,
   "metadata": {
    "collapsed": false
   },
   "outputs": [],
   "source": [
    "quantile_list = []\n",
    "for entries in dataset:\n",
    "    entry_summary = summarize_intervals_from_entries(entries)\n",
    "    if entry_summary is None:\n",
    "        continue\n",
    "    quantiles = void_time_quantiles(entry_summary)\n",
    "    if quantiles is None:\n",
    "        continue\n",
    "    quantile_list.append(quantiles)\n",
    "quantiles_pd = pd.DataFrame(quantile_list)"
   ]
  },
  {
   "cell_type": "code",
   "execution_count": 35,
   "metadata": {
    "collapsed": false
   },
   "outputs": [
    {
     "data": {
      "text/html": [
       "<div>\n",
       "<table border=\"1\" class=\"dataframe\">\n",
       "  <thead>\n",
       "    <tr style=\"text-align: right;\">\n",
       "      <th></th>\n",
       "      <th>quant 0.00</th>\n",
       "      <th>quant 0.10</th>\n",
       "      <th>quant 0.20</th>\n",
       "      <th>quant 0.30</th>\n",
       "      <th>quant 0.40</th>\n",
       "      <th>quant 0.50</th>\n",
       "      <th>quant 0.60</th>\n",
       "      <th>quant 0.70</th>\n",
       "      <th>quant 0.80</th>\n",
       "      <th>quant 0.90</th>\n",
       "    </tr>\n",
       "  </thead>\n",
       "  <tbody>\n",
       "    <tr>\n",
       "      <th>count</th>\n",
       "      <td>1101.000000</td>\n",
       "      <td>1101.000000</td>\n",
       "      <td>1101.000000</td>\n",
       "      <td>1101.000000</td>\n",
       "      <td>1101.000000</td>\n",
       "      <td>1101.000000</td>\n",
       "      <td>1101.000000</td>\n",
       "      <td>1101.000000</td>\n",
       "      <td>1101.000000</td>\n",
       "      <td>1101.000000</td>\n",
       "    </tr>\n",
       "    <tr>\n",
       "      <th>mean</th>\n",
       "      <td>0.278473</td>\n",
       "      <td>0.250387</td>\n",
       "      <td>0.239418</td>\n",
       "      <td>0.224830</td>\n",
       "      <td>0.217749</td>\n",
       "      <td>0.213495</td>\n",
       "      <td>0.207442</td>\n",
       "      <td>0.200875</td>\n",
       "      <td>0.195608</td>\n",
       "      <td>0.193806</td>\n",
       "    </tr>\n",
       "    <tr>\n",
       "      <th>std</th>\n",
       "      <td>0.351126</td>\n",
       "      <td>0.240736</td>\n",
       "      <td>0.200258</td>\n",
       "      <td>0.175801</td>\n",
       "      <td>0.162672</td>\n",
       "      <td>0.151610</td>\n",
       "      <td>0.145255</td>\n",
       "      <td>0.136118</td>\n",
       "      <td>0.131622</td>\n",
       "      <td>0.131339</td>\n",
       "    </tr>\n",
       "    <tr>\n",
       "      <th>min</th>\n",
       "      <td>0.000000</td>\n",
       "      <td>0.000000</td>\n",
       "      <td>0.000000</td>\n",
       "      <td>0.002871</td>\n",
       "      <td>0.002500</td>\n",
       "      <td>0.002673</td>\n",
       "      <td>0.002849</td>\n",
       "      <td>0.003159</td>\n",
       "      <td>0.003263</td>\n",
       "      <td>0.003421</td>\n",
       "    </tr>\n",
       "    <tr>\n",
       "      <th>0%</th>\n",
       "      <td>0.000000</td>\n",
       "      <td>0.000000</td>\n",
       "      <td>0.000000</td>\n",
       "      <td>0.002871</td>\n",
       "      <td>0.002500</td>\n",
       "      <td>0.002673</td>\n",
       "      <td>0.002849</td>\n",
       "      <td>0.003159</td>\n",
       "      <td>0.003263</td>\n",
       "      <td>0.003421</td>\n",
       "    </tr>\n",
       "    <tr>\n",
       "      <th>5%</th>\n",
       "      <td>0.000712</td>\n",
       "      <td>0.004631</td>\n",
       "      <td>0.012584</td>\n",
       "      <td>0.020486</td>\n",
       "      <td>0.026690</td>\n",
       "      <td>0.027179</td>\n",
       "      <td>0.029422</td>\n",
       "      <td>0.035859</td>\n",
       "      <td>0.033478</td>\n",
       "      <td>0.035887</td>\n",
       "    </tr>\n",
       "    <tr>\n",
       "      <th>10%</th>\n",
       "      <td>0.001411</td>\n",
       "      <td>0.009360</td>\n",
       "      <td>0.027494</td>\n",
       "      <td>0.038044</td>\n",
       "      <td>0.050076</td>\n",
       "      <td>0.048941</td>\n",
       "      <td>0.052031</td>\n",
       "      <td>0.057036</td>\n",
       "      <td>0.056733</td>\n",
       "      <td>0.056729</td>\n",
       "    </tr>\n",
       "    <tr>\n",
       "      <th>25%</th>\n",
       "      <td>0.005717</td>\n",
       "      <td>0.048936</td>\n",
       "      <td>0.088017</td>\n",
       "      <td>0.098551</td>\n",
       "      <td>0.103329</td>\n",
       "      <td>0.104191</td>\n",
       "      <td>0.104796</td>\n",
       "      <td>0.106048</td>\n",
       "      <td>0.103705</td>\n",
       "      <td>0.101988</td>\n",
       "    </tr>\n",
       "    <tr>\n",
       "      <th>50%</th>\n",
       "      <td>0.053502</td>\n",
       "      <td>0.184165</td>\n",
       "      <td>0.188132</td>\n",
       "      <td>0.177747</td>\n",
       "      <td>0.174789</td>\n",
       "      <td>0.176399</td>\n",
       "      <td>0.175680</td>\n",
       "      <td>0.172963</td>\n",
       "      <td>0.167871</td>\n",
       "      <td>0.162186</td>\n",
       "    </tr>\n",
       "    <tr>\n",
       "      <th>75%</th>\n",
       "      <td>0.536754</td>\n",
       "      <td>0.382694</td>\n",
       "      <td>0.345476</td>\n",
       "      <td>0.313934</td>\n",
       "      <td>0.298128</td>\n",
       "      <td>0.288112</td>\n",
       "      <td>0.272630</td>\n",
       "      <td>0.260573</td>\n",
       "      <td>0.251535</td>\n",
       "      <td>0.252236</td>\n",
       "    </tr>\n",
       "    <tr>\n",
       "      <th>90%</th>\n",
       "      <td>0.920680</td>\n",
       "      <td>0.610380</td>\n",
       "      <td>0.525451</td>\n",
       "      <td>0.469145</td>\n",
       "      <td>0.435730</td>\n",
       "      <td>0.422455</td>\n",
       "      <td>0.401797</td>\n",
       "      <td>0.388206</td>\n",
       "      <td>0.374852</td>\n",
       "      <td>0.371449</td>\n",
       "    </tr>\n",
       "    <tr>\n",
       "      <th>95%</th>\n",
       "      <td>0.976100</td>\n",
       "      <td>0.760101</td>\n",
       "      <td>0.639043</td>\n",
       "      <td>0.596797</td>\n",
       "      <td>0.555648</td>\n",
       "      <td>0.522453</td>\n",
       "      <td>0.504426</td>\n",
       "      <td>0.478612</td>\n",
       "      <td>0.455054</td>\n",
       "      <td>0.458187</td>\n",
       "    </tr>\n",
       "    <tr>\n",
       "      <th>max</th>\n",
       "      <td>0.998959</td>\n",
       "      <td>0.986758</td>\n",
       "      <td>0.976057</td>\n",
       "      <td>0.953346</td>\n",
       "      <td>0.902469</td>\n",
       "      <td>0.813461</td>\n",
       "      <td>0.891912</td>\n",
       "      <td>0.885721</td>\n",
       "      <td>0.883286</td>\n",
       "      <td>0.834113</td>\n",
       "    </tr>\n",
       "  </tbody>\n",
       "</table>\n",
       "</div>"
      ],
      "text/plain": [
       "        quant 0.00   quant 0.10   quant 0.20   quant 0.30   quant 0.40  \\\n",
       "count  1101.000000  1101.000000  1101.000000  1101.000000  1101.000000   \n",
       "mean      0.278473     0.250387     0.239418     0.224830     0.217749   \n",
       "std       0.351126     0.240736     0.200258     0.175801     0.162672   \n",
       "min       0.000000     0.000000     0.000000     0.002871     0.002500   \n",
       "0%        0.000000     0.000000     0.000000     0.002871     0.002500   \n",
       "5%        0.000712     0.004631     0.012584     0.020486     0.026690   \n",
       "10%       0.001411     0.009360     0.027494     0.038044     0.050076   \n",
       "25%       0.005717     0.048936     0.088017     0.098551     0.103329   \n",
       "50%       0.053502     0.184165     0.188132     0.177747     0.174789   \n",
       "75%       0.536754     0.382694     0.345476     0.313934     0.298128   \n",
       "90%       0.920680     0.610380     0.525451     0.469145     0.435730   \n",
       "95%       0.976100     0.760101     0.639043     0.596797     0.555648   \n",
       "max       0.998959     0.986758     0.976057     0.953346     0.902469   \n",
       "\n",
       "        quant 0.50   quant 0.60   quant 0.70   quant 0.80   quant 0.90  \n",
       "count  1101.000000  1101.000000  1101.000000  1101.000000  1101.000000  \n",
       "mean      0.213495     0.207442     0.200875     0.195608     0.193806  \n",
       "std       0.151610     0.145255     0.136118     0.131622     0.131339  \n",
       "min       0.002673     0.002849     0.003159     0.003263     0.003421  \n",
       "0%        0.002673     0.002849     0.003159     0.003263     0.003421  \n",
       "5%        0.027179     0.029422     0.035859     0.033478     0.035887  \n",
       "10%       0.048941     0.052031     0.057036     0.056733     0.056729  \n",
       "25%       0.104191     0.104796     0.106048     0.103705     0.101988  \n",
       "50%       0.176399     0.175680     0.172963     0.167871     0.162186  \n",
       "75%       0.288112     0.272630     0.260573     0.251535     0.252236  \n",
       "90%       0.422455     0.401797     0.388206     0.374852     0.371449  \n",
       "95%       0.522453     0.504426     0.478612     0.455054     0.458187  \n",
       "max       0.813461     0.891912     0.885721     0.883286     0.834113  "
      ]
     },
     "execution_count": 35,
     "metadata": {},
     "output_type": "execute_result"
    }
   ],
   "source": [
    "quantiles_pd.describe(percentiles=[0.0, 0.05, 0.1, 0.25, 0.50, 0.75, 0.90, 0.95])"
   ]
  },
  {
   "cell_type": "markdown",
   "metadata": {},
   "source": [
    "## Shimmercat data\n",
    "\n",
    "It is possible to achieve a higher data transfer density with [ShimmerCat](https://www.shimmercat.com). With minimal effort, our site and server achieves dtd values between 0.70 and 0.93. Compare with the data in the previous table."
   ]
  },
  {
   "cell_type": "code",
   "execution_count": 36,
   "metadata": {
    "collapsed": false
   },
   "outputs": [],
   "source": [
    "entries_shimmercat = json.load(open(\"data/www.shimmercat.com.har\"))['log']['entries']"
   ]
  },
  {
   "cell_type": "code",
   "execution_count": 37,
   "metadata": {
    "collapsed": false
   },
   "outputs": [
    {
     "data": {
      "text/html": [
       "<div>\n",
       "<table border=\"1\" class=\"dataframe\">\n",
       "  <thead>\n",
       "    <tr style=\"text-align: right;\">\n",
       "      <th></th>\n",
       "      <th>void_start</th>\n",
       "      <th>void_length</th>\n",
       "      <th>void_end</th>\n",
       "      <th>total_void</th>\n",
       "      <th>unused_prop</th>\n",
       "      <th>dtd</th>\n",
       "    </tr>\n",
       "  </thead>\n",
       "  <tbody>\n",
       "    <tr>\n",
       "      <th>0</th>\n",
       "      <td>118.983</td>\n",
       "      <td>49.256</td>\n",
       "      <td>168.239</td>\n",
       "      <td>49.256</td>\n",
       "      <td>0.292774</td>\n",
       "      <td>0.707226</td>\n",
       "    </tr>\n",
       "    <tr>\n",
       "      <th>1</th>\n",
       "      <td>407.218</td>\n",
       "      <td>0.892</td>\n",
       "      <td>408.110</td>\n",
       "      <td>50.148</td>\n",
       "      <td>0.122879</td>\n",
       "      <td>0.877121</td>\n",
       "    </tr>\n",
       "    <tr>\n",
       "      <th>2</th>\n",
       "      <td>710.992</td>\n",
       "      <td>1.094</td>\n",
       "      <td>712.086</td>\n",
       "      <td>51.242</td>\n",
       "      <td>0.071960</td>\n",
       "      <td>0.928040</td>\n",
       "    </tr>\n",
       "    <tr>\n",
       "      <th>3</th>\n",
       "      <td>832.275</td>\n",
       "      <td>10.164</td>\n",
       "      <td>842.439</td>\n",
       "      <td>61.406</td>\n",
       "      <td>0.072891</td>\n",
       "      <td>0.927109</td>\n",
       "    </tr>\n",
       "    <tr>\n",
       "      <th>4</th>\n",
       "      <td>844.159</td>\n",
       "      <td>60.025</td>\n",
       "      <td>904.184</td>\n",
       "      <td>121.431</td>\n",
       "      <td>0.134299</td>\n",
       "      <td>0.865701</td>\n",
       "    </tr>\n",
       "    <tr>\n",
       "      <th>5</th>\n",
       "      <td>1143.901</td>\n",
       "      <td>1.158</td>\n",
       "      <td>1145.059</td>\n",
       "      <td>122.589</td>\n",
       "      <td>0.107059</td>\n",
       "      <td>0.892941</td>\n",
       "    </tr>\n",
       "    <tr>\n",
       "      <th>6</th>\n",
       "      <td>1145.470</td>\n",
       "      <td>32.088</td>\n",
       "      <td>1177.558</td>\n",
       "      <td>154.677</td>\n",
       "      <td>0.131354</td>\n",
       "      <td>0.868646</td>\n",
       "    </tr>\n",
       "    <tr>\n",
       "      <th>7</th>\n",
       "      <td>1178.120</td>\n",
       "      <td>50.137</td>\n",
       "      <td>1228.257</td>\n",
       "      <td>204.814</td>\n",
       "      <td>0.166752</td>\n",
       "      <td>0.833248</td>\n",
       "    </tr>\n",
       "    <tr>\n",
       "      <th>8</th>\n",
       "      <td>1241.591</td>\n",
       "      <td>15.243</td>\n",
       "      <td>1256.834</td>\n",
       "      <td>220.057</td>\n",
       "      <td>0.175088</td>\n",
       "      <td>0.824912</td>\n",
       "    </tr>\n",
       "    <tr>\n",
       "      <th>9</th>\n",
       "      <td>1258.221</td>\n",
       "      <td>6.867</td>\n",
       "      <td>1265.088</td>\n",
       "      <td>226.924</td>\n",
       "      <td>0.179374</td>\n",
       "      <td>0.820626</td>\n",
       "    </tr>\n",
       "    <tr>\n",
       "      <th>10</th>\n",
       "      <td>1265.316</td>\n",
       "      <td>42.855</td>\n",
       "      <td>1308.171</td>\n",
       "      <td>269.779</td>\n",
       "      <td>0.206226</td>\n",
       "      <td>0.793774</td>\n",
       "    </tr>\n",
       "    <tr>\n",
       "      <th>11</th>\n",
       "      <td>1308.447</td>\n",
       "      <td>73.884</td>\n",
       "      <td>1382.331</td>\n",
       "      <td>343.663</td>\n",
       "      <td>0.248611</td>\n",
       "      <td>0.751389</td>\n",
       "    </tr>\n",
       "    <tr>\n",
       "      <th>12</th>\n",
       "      <td>1626.954</td>\n",
       "      <td>11.126</td>\n",
       "      <td>1638.080</td>\n",
       "      <td>354.789</td>\n",
       "      <td>0.216588</td>\n",
       "      <td>0.783412</td>\n",
       "    </tr>\n",
       "    <tr>\n",
       "      <th>13</th>\n",
       "      <td>1638.334</td>\n",
       "      <td>10.743</td>\n",
       "      <td>1649.077</td>\n",
       "      <td>365.532</td>\n",
       "      <td>0.221659</td>\n",
       "      <td>0.778341</td>\n",
       "    </tr>\n",
       "  </tbody>\n",
       "</table>\n",
       "</div>"
      ],
      "text/plain": [
       "    void_start  void_length  void_end  total_void  unused_prop       dtd\n",
       "0      118.983       49.256   168.239      49.256     0.292774  0.707226\n",
       "1      407.218        0.892   408.110      50.148     0.122879  0.877121\n",
       "2      710.992        1.094   712.086      51.242     0.071960  0.928040\n",
       "3      832.275       10.164   842.439      61.406     0.072891  0.927109\n",
       "4      844.159       60.025   904.184     121.431     0.134299  0.865701\n",
       "5     1143.901        1.158  1145.059     122.589     0.107059  0.892941\n",
       "6     1145.470       32.088  1177.558     154.677     0.131354  0.868646\n",
       "7     1178.120       50.137  1228.257     204.814     0.166752  0.833248\n",
       "8     1241.591       15.243  1256.834     220.057     0.175088  0.824912\n",
       "9     1258.221        6.867  1265.088     226.924     0.179374  0.820626\n",
       "10    1265.316       42.855  1308.171     269.779     0.206226  0.793774\n",
       "11    1308.447       73.884  1382.331     343.663     0.248611  0.751389\n",
       "12    1626.954       11.126  1638.080     354.789     0.216588  0.783412\n",
       "13    1638.334       10.743  1649.077     365.532     0.221659  0.778341"
      ]
     },
     "execution_count": 37,
     "metadata": {},
     "output_type": "execute_result"
    }
   ],
   "source": [
    "summarize_intervals_from_entries(entries_shimmercat)"
   ]
  },
  {
   "cell_type": "code",
   "execution_count": null,
   "metadata": {
    "collapsed": true
   },
   "outputs": [],
   "source": []
  }
 ],
 "metadata": {
  "kernelspec": {
   "display_name": "Python 3",
   "language": "python",
   "name": "python3"
  },
  "language_info": {
   "codemirror_mode": {
    "name": "ipython",
    "version": 3
   },
   "file_extension": ".py",
   "mimetype": "text/x-python",
   "name": "python",
   "nbconvert_exporter": "python",
   "pygments_lexer": "ipython3",
   "version": "3.4.3"
  }
 },
 "nbformat": 4,
 "nbformat_minor": 0
}
