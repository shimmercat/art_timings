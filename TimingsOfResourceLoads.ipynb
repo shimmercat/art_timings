{
 "cells": [
  {
   "cell_type": "markdown",
   "metadata": {},
   "source": [
    "# Web browsers use the network too sparingly\n",
    "\n",
    "Author: alcidesv@shimmercat.com\n",
    "\n",
    "## Abstract\n",
    "\n",
    "The typical HTTP request/response model makes difficult for browsers to use their available bandwidth to fetch the website faster. Here we analyze how fast a web page can be fetched."
   ]
  },
  {
   "cell_type": "markdown",
   "metadata": {},
   "source": [
    "## What is in the dataset\n",
    "\n",
    "The dataset contains page-load times, with individual resources, for each of the 1300 resource page loads.The 1300 sites were submitted by performance-conscious site operators that were evaluating their site's performance. The important bits of the dataset,  anonymized, [are available](https://github.com/shimmercat/art_timings/raw/master/data/clean_dataset.json.xz) for you to make your own measurements. "
   ]
  },
  {
   "cell_type": "markdown",
   "metadata": {},
   "source": [
    "## Notebook initialization and loading the dataset"
   ]
  },
  {
   "cell_type": "code",
   "execution_count": 1,
   "metadata": {
    "collapsed": false
   },
   "outputs": [
    {
     "name": "stdout",
     "output_type": "stream",
     "text": [
      "Using matplotlib backend: GTK3Agg\n",
      "Populating the interactive namespace from numpy and matplotlib\n"
     ]
    },
    {
     "name": "stderr",
     "output_type": "stream",
     "text": [
      "/usr/local/lib/python3.4/dist-packages/matplotlib/__init__.py:872: UserWarning: axes.color_cycle is deprecated and replaced with axes.prop_cycle; please use the latter.\n",
      "  warnings.warn(self.msg_depr % (key, alt_key))\n",
      "WARNING: pylab import has clobbered these variables: ['rc']\n",
      "`%matplotlib` prevents importing * from pylab and numpy\n"
     ]
    }
   ],
   "source": [
    "# Import Bokeh modules for interactive plotting\n",
    "import bokeh.io\n",
    "import bokeh.mpl\n",
    "import bokeh.plotting\n",
    "\n",
    "\n",
    "\n",
    "# Seaborn, useful for graphics\n",
    "import seaborn as sns\n",
    "\n",
    "import matplotlib\n",
    "#matplotlib.style.use('ggplot')\n",
    "rc = {'lines.linewidth': 2, \n",
    "      'axes.labelsize': 14, \n",
    "      'axes.titlesize': 14, \n",
    "      'axes.facecolor': 'DFDFE5',\n",
    "      'patch.facecolor': 'F37626'\n",
    "     }\n",
    "sns.set_context('notebook', rc=rc)\n",
    "sns.set_style('darkgrid', rc=rc)\n",
    "\n",
    "%pylab\n",
    "%matplotlib inline\n",
    "%config InlineBackend.figure_formats = {'png', 'retina'}\n",
    "# %config InlineBackend.figure_formats = {'svg',}\n",
    "\n",
    "# Set up Bokeh for inline viewing\n",
    "#bokeh.io.output_notebook()"
   ]
  },
  {
   "cell_type": "code",
   "execution_count": 2,
   "metadata": {
    "collapsed": false
   },
   "outputs": [],
   "source": [
    "import numpy as np\n",
    "import pandas as pd\n",
    "from glob import glob\n",
    "import os.path\n",
    "import json\n",
    "import lzma\n",
    "import re"
   ]
  },
  {
   "cell_type": "code",
   "execution_count": 3,
   "metadata": {
    "collapsed": false
   },
   "outputs": [],
   "source": [
    " with lzma.open(\"data/clean_dataset.json.xz\", 'rb') as fin:\n",
    "    dataset_s = fin.read().decode('ascii')\n",
    "    dataset = json.loads(dataset_s)"
   ]
  },
  {
   "cell_type": "markdown",
   "metadata": {},
   "source": [
    "### Parsing the date-times"
   ]
  },
  {
   "cell_type": "markdown",
   "metadata": {},
   "source": [
    "This is how the starting times of a request look in the jar file."
   ]
  },
  {
   "cell_type": "code",
   "execution_count": 4,
   "metadata": {
    "collapsed": false
   },
   "outputs": [
    {
     "data": {
      "text/plain": [
       "{'startedDateTime': '2015-12-01T08:37:30.598Z',\n",
       " 'timings': {'blocked': 0.382999889552593,\n",
       "  'connect': 248.054999858141,\n",
       "  'dns': 410.19000019878143,\n",
       "  'receive': 33.59492402523745,\n",
       "  'send': 0.13100076466798782,\n",
       "  'ssl': 215.08000046014797,\n",
       "  'wait': 35.99599935114395},\n",
       " 'transferSize': 20469}"
      ]
     },
     "execution_count": 4,
     "metadata": {},
     "output_type": "execute_result"
    }
   ],
   "source": [
    "dtsample = dataset[0]['entries'][0]\n",
    "dtsample"
   ]
  },
  {
   "cell_type": "markdown",
   "metadata": {},
   "source": [
    "Let's parse startedDateTime by hand..."
   ]
  },
  {
   "cell_type": "code",
   "execution_count": 5,
   "metadata": {
    "collapsed": true
   },
   "outputs": [],
   "source": [
    "rgx_ = re.compile( 'T([0-9]{2}):([0-9]{2}):([0-9]{2}\\.[0-9]*)Z' )\n",
    "ms_ = 1000\n",
    "def dt2milliseconds(dtval):\n",
    "    mo = re.search(rgx_, dtval)\n",
    "    milliseconds = \\\n",
    "       int( mo.group(1) )*3600*ms_ + \\\n",
    "       int( mo.group(2) )*60*ms_ + \\\n",
    "       float( mo.group(3) )*ms_\n",
    "    return milliseconds"
   ]
  },
  {
   "cell_type": "markdown",
   "metadata": {},
   "source": [
    "### Decorating the entries with the relative start-end time of the request"
   ]
  },
  {
   "cell_type": "code",
   "execution_count": 6,
   "metadata": {
    "collapsed": false
   },
   "outputs": [],
   "source": [
    "def decorate_relative_timings(timings, starts_dtval, first_request_start):\n",
    "    # Uses the timings entry in each fetch and its starting time \n",
    "    # to deduce a set of \"unhabited\" intervals and a set of \n",
    "    # \"populated\" intervals. \n",
    "    mseconds_start = dt2milliseconds(starts_dtval) - first_request_start\n",
    "    connect = timings.get('connect',0)\n",
    "    dns = timings.get('dns', 0)\n",
    "    blocked = timings.get('blocked', 0)\n",
    "    # Chrome uses '-1' to signal that the timing doesn't apply\n",
    "    if connect < 0:\n",
    "        connect = 0\n",
    "    if dns < 0: \n",
    "        dns = 0\n",
    "    ssl = timings.get('ssl', 0)\n",
    "    if ssl < 0:\n",
    "        ssl = 0\n",
    "    send = timings.get('send')\n",
    "    wait = timings.get('wait')\n",
    "    receive = timings.get('receive')\n",
    "    \n",
    "    starts_receiving = mseconds_start + connect + dns + ssl + send + wait\n",
    "    ends_receiving = starts_receiving + receive\n",
    "    timings['rel_start'] = mseconds_start\n",
    "    timings['starts_receiving'] = starts_receiving\n",
    "    timings['ends_receiving'] = ends_receiving\n",
    "    \n",
    "def decorate_all_timing_entries(fetch_timings):\n",
    "    first_fetch = fetch_timings['entries'][0]\n",
    "    first_request_start = dt2milliseconds(first_fetch['startedDateTime'])\n",
    "    for entry in fetch_timings['entries']:\n",
    "        decorate_relative_timings(entry['timings'], entry['startedDateTime'], first_request_start)\n",
    "        \n",
    "for fetch_timings in dataset:\n",
    "    decorate_all_timing_entries(fetch_timings)"
   ]
  },
  {
   "cell_type": "markdown",
   "metadata": {},
   "source": [
    "An entry looks like this now:"
   ]
  },
  {
   "cell_type": "code",
   "execution_count": 7,
   "metadata": {
    "collapsed": false
   },
   "outputs": [
    {
     "data": {
      "text/plain": [
       "{'startedDateTime': '2015-12-01T08:37:30.598Z',\n",
       " 'timings': {'blocked': 0.382999889552593,\n",
       "  'connect': 248.054999858141,\n",
       "  'dns': 410.19000019878143,\n",
       "  'ends_receiving': 943.0469246581198,\n",
       "  'receive': 33.59492402523745,\n",
       "  'rel_start': 0.0,\n",
       "  'send': 0.13100076466798782,\n",
       "  'ssl': 215.08000046014797,\n",
       "  'starts_receiving': 909.4520006328823,\n",
       "  'wait': 35.99599935114395},\n",
       " 'transferSize': 20469}"
      ]
     },
     "execution_count": 7,
     "metadata": {},
     "output_type": "execute_result"
    }
   ],
   "source": [
    "dataset[0]['entries'][0]"
   ]
  },
  {
   "cell_type": "markdown",
   "metadata": {},
   "source": [
    "### Sets of intervals\n",
    "\n",
    "Sets of intervals are cool! We can do all sort of interesting things with them!"
   ]
  },
  {
   "cell_type": "code",
   "execution_count": 8,
   "metadata": {
    "collapsed": true
   },
   "outputs": [],
   "source": [
    "def merge_sets_step(s1):\n",
    "\n",
    "    # Take the first interval\n",
    "    fi = s1[0]\n",
    "    fi_start, fi_end = fi \n",
    "    r_start = fi_start\n",
    "    r_end = fi_end\n",
    "    # Take the other intervals, and see if we can merge them\n",
    "    for (_i,ai) in enumerate(s1[1:]):\n",
    "        ai_start, ai_end = ai \n",
    "        if ai_start <= r_end:\n",
    "            # A merge is possible \n",
    "            r_end = ai_end \n",
    "        else:\n",
    "            # A merge is not possible. Since the intervals \n",
    "            # are sorted by their starting point, the next \n",
    "            # interval will start at a more distant place. \n",
    "            # Finish by returning the new merged big interval\n",
    "            # and the rest of the sorted set.... \n",
    "            return ((r_start, r_end), s1[_i+1:])\n",
    "    # If I arrive here, it is just a big one\n",
    "    return ((r_start, r_end), [])\n",
    "\n",
    "def merge_interval_sets(iterable_of_intervals):\n",
    "    # Sort the intervals ... \n",
    "    s1 = sorted(iterable_of_intervals, key=(lambda i: i[0]))\n",
    "    si = s1\n",
    "    disjoint_intervals = []\n",
    "    disjoint_voids = []\n",
    "    mi_end_prev = None\n",
    "    while len(si) > 0:\n",
    "        (merged_interval, si_next) = merge_sets_step(si)\n",
    "        mi_start, mi_end = merged_interval\n",
    "        if mi_end_prev:\n",
    "            disjoint_voids.append((mi_end_prev, mi_start))\n",
    "        mi_end_prev = mi_end\n",
    "        disjoint_intervals.append(merged_interval)\n",
    "        si = si_next\n",
    "    return (disjoint_intervals, disjoint_voids)"
   ]
  },
  {
   "cell_type": "markdown",
   "metadata": {},
   "source": [
    "Let's just test a little bit the merge intervals function."
   ]
  },
  {
   "cell_type": "code",
   "execution_count": 9,
   "metadata": {
    "collapsed": false
   },
   "outputs": [
    {
     "data": {
      "text/plain": [
       "((0, 1), [(2, 3)])"
      ]
     },
     "execution_count": 9,
     "metadata": {},
     "output_type": "execute_result"
    }
   ],
   "source": [
    "merge_sets_step([\n",
    "        (0,1),\n",
    "        (2,3)\n",
    "    ])"
   ]
  },
  {
   "cell_type": "code",
   "execution_count": 10,
   "metadata": {
    "collapsed": false
   },
   "outputs": [
    {
     "data": {
      "text/plain": [
       "((0, 1.5), [(2, 3)])"
      ]
     },
     "execution_count": 10,
     "metadata": {},
     "output_type": "execute_result"
    }
   ],
   "source": [
    "merge_sets_step([\n",
    "        (0,1),\n",
    "        (0.5,1.5),\n",
    "        (2,3)\n",
    "    ])"
   ]
  },
  {
   "cell_type": "code",
   "execution_count": 11,
   "metadata": {
    "collapsed": false
   },
   "outputs": [
    {
     "data": {
      "text/plain": [
       "((0, 3), [])"
      ]
     },
     "execution_count": 11,
     "metadata": {},
     "output_type": "execute_result"
    }
   ],
   "source": [
    "merge_sets_step([\n",
    "        (0,1),\n",
    "        (0.5,2.5),\n",
    "        (2,3)\n",
    "    ])"
   ]
  },
  {
   "cell_type": "code",
   "execution_count": 12,
   "metadata": {
    "collapsed": false
   },
   "outputs": [
    {
     "data": {
      "text/plain": [
       "([(0, 3)], [])"
      ]
     },
     "execution_count": 12,
     "metadata": {},
     "output_type": "execute_result"
    }
   ],
   "source": [
    "merge_interval_sets([\n",
    "        (0,1),\n",
    "        (0.5,2.5),\n",
    "        (2,3)\n",
    "    ])"
   ]
  },
  {
   "cell_type": "code",
   "execution_count": 13,
   "metadata": {
    "collapsed": false
   },
   "outputs": [
    {
     "data": {
      "text/plain": [
       "([(0, 1.5), (2, 4), (4.01, 6)], [(1.5, 2), (4, 4.01)])"
      ]
     },
     "execution_count": 13,
     "metadata": {},
     "output_type": "execute_result"
    }
   ],
   "source": [
    "merge_interval_sets([\n",
    "        (0,1),\n",
    "        (0.5,1.5),\n",
    "        (2,3),\n",
    "        (3,4),\n",
    "        (4.01, 6)\n",
    "    ])"
   ]
  },
  {
   "cell_type": "code",
   "execution_count": 14,
   "metadata": {
    "collapsed": true
   },
   "outputs": [],
   "source": [
    "def adv_state(state, token):\n",
    "    if (state,token) == (\"S0\", \"B1\"):\n",
    "        return \"S1\"\n",
    "    if (state,token) == (\"S0\", \"B2\"):\n",
    "        return \"S3\"\n",
    "    if (state,token) == (\"S1\", \"E1\"):\n",
    "        return \"S0\"\n",
    "    if (state,token) == (\"S1\", \"B2\"):\n",
    "        return \"S2\"\n",
    "    if (state, token) == (\"S2\", \"E2\"):\n",
    "        return \"S1\"\n",
    "    if (state, token) == ('S2', 'E1'):\n",
    "        return \"S3\"\n",
    "    if (state, token) == ('S3', 'B1'):\n",
    "        return \"S2\"\n",
    "    if (state, token) == ('S3', 'E2'):\n",
    "        return \"S0\"\n",
    "    raise AssertionError(\"Must-not-happen: \" + str((state, token)))\n",
    "    return None\n",
    "\n",
    "def diff_interval_sets(a_set, b_set):\n",
    "    \"\"\"Computes a \\ b\"\"\"\n",
    "    all_intervals = []\n",
    "    for (a,b) in a_set:\n",
    "        all_intervals.append((\"B1\",a))\n",
    "        all_intervals.append((\"E1\",b))\n",
    "        \n",
    "    for (a,b) in b_set:\n",
    "        all_intervals.append((\"B2\",a))\n",
    "        all_intervals.append((\"E2\",b))\n",
    "        \n",
    "    # Now sort \n",
    "    all_intervals.sort(key=(lambda x: x[1]))\n",
    "    \n",
    "    state = 'S0'\n",
    "    prev_position = None\n",
    "    for (change, position) in all_intervals:\n",
    "        #print((state,change, position, prev_position))\n",
    "        new_state = adv_state(state, change)\n",
    "        if state == 'S1' and new_state != 'S1':\n",
    "            # This most be true for the most part  ... \n",
    "            yield (prev_position, position)\n",
    "            \n",
    "        state = new_state \n",
    "        prev_position = position \n",
    "    "
   ]
  },
  {
   "cell_type": "code",
   "execution_count": 15,
   "metadata": {
    "collapsed": false
   },
   "outputs": [
    {
     "data": {
      "text/plain": [
       "[(0, 0.2), (0.5, 1), (3.0, 3.4)]"
      ]
     },
     "execution_count": 15,
     "metadata": {},
     "output_type": "execute_result"
    }
   ],
   "source": [
    "list(diff_interval_sets(\n",
    "        [\n",
    "            (0,1),\n",
    "            (1.2, 3.4)\n",
    "        ],\n",
    "        [\n",
    "            (0.2, 0.5),\n",
    "            (1.1, 3.0)\n",
    "        ]\n",
    "    ))"
   ]
  },
  {
   "cell_type": "code",
   "execution_count": 16,
   "metadata": {
    "collapsed": false
   },
   "outputs": [
    {
     "data": {
      "text/plain": [
       "[(-1, 2), (3.5, 3.6), (3.7, 8.4)]"
      ]
     },
     "execution_count": 16,
     "metadata": {},
     "output_type": "execute_result"
    }
   ],
   "source": [
    "list(diff_interval_sets(\n",
    "        [\n",
    "            (-1,2),\n",
    "            (2.4, 8.4)\n",
    "        ],\n",
    "        [\n",
    "            (2.2, 3.5),\n",
    "            (3.6, 3.7)\n",
    "        ]\n",
    "    ))"
   ]
  },
  {
   "cell_type": "markdown",
   "metadata": {},
   "source": [
    "Looks good, let's continue."
   ]
  },
  {
   "cell_type": "markdown",
   "metadata": {},
   "source": [
    "Number of data points\n",
    "------------------------\n",
    "\n",
    "That is, how many files there are in our little DB."
   ]
  },
  {
   "cell_type": "code",
   "execution_count": 17,
   "metadata": {
    "collapsed": false
   },
   "outputs": [
    {
     "data": {
      "text/plain": [
       "1261"
      ]
     },
     "execution_count": 17,
     "metadata": {},
     "output_type": "execute_result"
    }
   ],
   "source": [
    "len(dataset)"
   ]
  },
  {
   "cell_type": "markdown",
   "metadata": {},
   "source": [
    "## Number of requests per page"
   ]
  },
  {
   "cell_type": "code",
   "execution_count": 18,
   "metadata": {
    "collapsed": false
   },
   "outputs": [],
   "source": [
    "counts = pd.DataFrame( list( len(d['entries']) for d in dataset ), columns=['asset_count'] )"
   ]
  },
  {
   "cell_type": "code",
   "execution_count": 19,
   "metadata": {
    "collapsed": false
   },
   "outputs": [
    {
     "data": {
      "text/html": [
       "<div>\n",
       "<table border=\"1\" class=\"dataframe\">\n",
       "  <thead>\n",
       "    <tr style=\"text-align: right;\">\n",
       "      <th></th>\n",
       "      <th>asset_count</th>\n",
       "    </tr>\n",
       "  </thead>\n",
       "  <tbody>\n",
       "    <tr>\n",
       "      <th>0</th>\n",
       "      <td>135</td>\n",
       "    </tr>\n",
       "    <tr>\n",
       "      <th>1</th>\n",
       "      <td>157</td>\n",
       "    </tr>\n",
       "    <tr>\n",
       "      <th>2</th>\n",
       "      <td>81</td>\n",
       "    </tr>\n",
       "    <tr>\n",
       "      <th>3</th>\n",
       "      <td>425</td>\n",
       "    </tr>\n",
       "    <tr>\n",
       "      <th>4</th>\n",
       "      <td>18</td>\n",
       "    </tr>\n",
       "  </tbody>\n",
       "</table>\n",
       "</div>"
      ],
      "text/plain": [
       "   asset_count\n",
       "0          135\n",
       "1          157\n",
       "2           81\n",
       "3          425\n",
       "4           18"
      ]
     },
     "execution_count": 19,
     "metadata": {},
     "output_type": "execute_result"
    }
   ],
   "source": [
    "counts[:5]"
   ]
  },
  {
   "cell_type": "code",
   "execution_count": 20,
   "metadata": {
    "collapsed": false
   },
   "outputs": [
    {
     "data": {
      "text/plain": [
       "count    1203.000000\n",
       "mean       86.600998\n",
       "std        97.236518\n",
       "min         6.000000\n",
       "25%        26.000000\n",
       "50%        55.000000\n",
       "75%       109.000000\n",
       "max       921.000000\n",
       "Name: asset_count, dtype: float64"
      ]
     },
     "execution_count": 20,
     "metadata": {},
     "output_type": "execute_result"
    }
   ],
   "source": [
    "counts_clean = counts.query('asset_count > 5')\n",
    "counts_clean['asset_count'].describe()"
   ]
  },
  {
   "cell_type": "code",
   "execution_count": 21,
   "metadata": {
    "collapsed": false
   },
   "outputs": [
    {
     "data": {
      "text/plain": [
       "<matplotlib.axes._subplots.AxesSubplot at 0x7f7208318390>"
      ]
     },
     "execution_count": 21,
     "metadata": {},
     "output_type": "execute_result"
    },
    {
     "data": {
      "image/png": "[encoded data removed]",
      "text/plain": [
       "<matplotlib.figure.Figure at 0x7f7208a91780>"
      ]
     },
     "metadata": {
      "image/png": {
       "height": 258,
       "width": 402
      }
     },
     "output_type": "display_data"
    }
   ],
   "source": [
    "counts_clean.plot(kind='hist')"
   ]
  },
  {
   "cell_type": "code",
   "execution_count": 22,
   "metadata": {
    "collapsed": false
   },
   "outputs": [
    {
     "data": {
      "text/plain": [
       "<matplotlib.text.Text at 0x7f7201070710>"
      ]
     },
     "execution_count": 22,
     "metadata": {},
     "output_type": "execute_result"
    },
    {
     "data": {
      "image/png": "[encoded data removed]",
      "text/plain": [
       "<matplotlib.figure.Figure at 0x7f7204904c18>"
      ]
     },
     "metadata": {
      "image/png": {
       "height": 287,
       "width": 407
      }
     },
     "output_type": "display_data"
    }
   ],
   "source": [
    "fig=pyplot.figure()\n",
    "ax = fig.add_subplot(111)\n",
    "(a0,a1,patches)=ax.hist(counts_clean.as_matrix(), bins=np.arange(0,400,25), normed=True)\n",
    "a1.sum()\n",
    "ax.set_xlabel(\"Number of requests\")\n",
    "ax.set_ylabel(\"Normalized density\")\n",
    "ax.set_title(\"Distribution of requests per page\")"
   ]
  },
  {
   "cell_type": "markdown",
   "metadata": {},
   "source": [
    "The number above should be used as our total of data-points: \n",
    "1233"
   ]
  },
  {
   "cell_type": "markdown",
   "metadata": {},
   "source": [
    "----------------------"
   ]
  },
  {
   "cell_type": "markdown",
   "metadata": {},
   "source": [
    "## When the first request can actually start"
   ]
  },
  {
   "cell_type": "code",
   "execution_count": 23,
   "metadata": {
    "collapsed": true
   },
   "outputs": [],
   "source": [
    "def extract_stoppers(entries_list):\n",
    "    first_entry = entries_list[0]['timings']\n",
    "    connect_time = first_entry['connect']\n",
    "    dns_time = first_entry['dns']\n",
    "    ssl = first_entry.get('ssl', 0)\n",
    "    wait = first_entry.get('wait')\n",
    "    return {\n",
    "         'connect': connect_time,\n",
    "         'dns': dns_time,\n",
    "         'ssl': ssl,\n",
    "         'wait': wait\n",
    "        }"
   ]
  },
  {
   "cell_type": "code",
   "execution_count": 24,
   "metadata": {
    "collapsed": false
   },
   "outputs": [
    {
     "data": {
      "text/html": [
       "<div>\n",
       "<table border=\"1\" class=\"dataframe\">\n",
       "  <thead>\n",
       "    <tr style=\"text-align: right;\">\n",
       "      <th></th>\n",
       "      <th>connect</th>\n",
       "      <th>dns</th>\n",
       "      <th>ssl</th>\n",
       "      <th>wait</th>\n",
       "    </tr>\n",
       "  </thead>\n",
       "  <tbody>\n",
       "    <tr>\n",
       "      <th>0</th>\n",
       "      <td>248.055</td>\n",
       "      <td>410.190000</td>\n",
       "      <td>215.08</td>\n",
       "      <td>35.995999</td>\n",
       "    </tr>\n",
       "    <tr>\n",
       "      <th>1</th>\n",
       "      <td>44.974</td>\n",
       "      <td>192.953000</td>\n",
       "      <td>-1.00</td>\n",
       "      <td>275.657000</td>\n",
       "    </tr>\n",
       "    <tr>\n",
       "      <th>2</th>\n",
       "      <td>166.749</td>\n",
       "      <td>182.938000</td>\n",
       "      <td>-1.00</td>\n",
       "      <td>166.886000</td>\n",
       "    </tr>\n",
       "    <tr>\n",
       "      <th>3</th>\n",
       "      <td>8.034</td>\n",
       "      <td>246.746000</td>\n",
       "      <td>-1.00</td>\n",
       "      <td>123.576000</td>\n",
       "    </tr>\n",
       "    <tr>\n",
       "      <th>4</th>\n",
       "      <td>24.032</td>\n",
       "      <td>1.269001</td>\n",
       "      <td>-1.00</td>\n",
       "      <td>30.242000</td>\n",
       "    </tr>\n",
       "  </tbody>\n",
       "</table>\n",
       "</div>"
      ],
      "text/plain": [
       "   connect         dns     ssl        wait\n",
       "0  248.055  410.190000  215.08   35.995999\n",
       "1   44.974  192.953000   -1.00  275.657000\n",
       "2  166.749  182.938000   -1.00  166.886000\n",
       "3    8.034  246.746000   -1.00  123.576000\n",
       "4   24.032    1.269001   -1.00   30.242000"
      ]
     },
     "execution_count": 24,
     "metadata": {},
     "output_type": "execute_result"
    }
   ],
   "source": [
    "stoppers = list( [extract_stoppers(d['entries']) for d in dataset] )\n",
    "stoppers_df = pd.DataFrame(stoppers)\n",
    "stoppers_df[:5]"
   ]
  },
  {
   "cell_type": "code",
   "execution_count": 25,
   "metadata": {
    "collapsed": false
   },
   "outputs": [
    {
     "data": {
      "text/html": [
       "<div>\n",
       "<table border=\"1\" class=\"dataframe\">\n",
       "  <thead>\n",
       "    <tr style=\"text-align: right;\">\n",
       "      <th></th>\n",
       "      <th>connect</th>\n",
       "      <th>dns</th>\n",
       "      <th>ssl</th>\n",
       "      <th>wait</th>\n",
       "    </tr>\n",
       "  </thead>\n",
       "  <tbody>\n",
       "    <tr>\n",
       "      <th>0</th>\n",
       "      <td>248.055</td>\n",
       "      <td>410.190000</td>\n",
       "      <td>215.08</td>\n",
       "      <td>35.995999</td>\n",
       "    </tr>\n",
       "    <tr>\n",
       "      <th>1</th>\n",
       "      <td>44.974</td>\n",
       "      <td>192.953000</td>\n",
       "      <td>-1.00</td>\n",
       "      <td>275.657000</td>\n",
       "    </tr>\n",
       "    <tr>\n",
       "      <th>2</th>\n",
       "      <td>166.749</td>\n",
       "      <td>182.938000</td>\n",
       "      <td>-1.00</td>\n",
       "      <td>166.886000</td>\n",
       "    </tr>\n",
       "    <tr>\n",
       "      <th>3</th>\n",
       "      <td>8.034</td>\n",
       "      <td>246.746000</td>\n",
       "      <td>-1.00</td>\n",
       "      <td>123.576000</td>\n",
       "    </tr>\n",
       "    <tr>\n",
       "      <th>4</th>\n",
       "      <td>24.032</td>\n",
       "      <td>1.269001</td>\n",
       "      <td>-1.00</td>\n",
       "      <td>30.242000</td>\n",
       "    </tr>\n",
       "  </tbody>\n",
       "</table>\n",
       "</div>"
      ],
      "text/plain": [
       "   connect         dns     ssl        wait\n",
       "0  248.055  410.190000  215.08   35.995999\n",
       "1   44.974  192.953000   -1.00  275.657000\n",
       "2  166.749  182.938000   -1.00  166.886000\n",
       "3    8.034  246.746000   -1.00  123.576000\n",
       "4   24.032    1.269001   -1.00   30.242000"
      ]
     },
     "execution_count": 25,
     "metadata": {},
     "output_type": "execute_result"
    }
   ],
   "source": [
    "stoppers_df_clean = stoppers_df.query('connect > 0')\n",
    "stoppers_df_clean[:5]"
   ]
  },
  {
   "cell_type": "markdown",
   "metadata": {},
   "source": [
    "### How the bare connection times are distributed\n",
    "\n",
    "This does not include DNS or SSL times"
   ]
  },
  {
   "cell_type": "code",
   "execution_count": 26,
   "metadata": {
    "collapsed": false
   },
   "outputs": [
    {
     "data": {
      "text/plain": [
       "<matplotlib.axes._subplots.AxesSubplot at 0x7f720104bba8>"
      ]
     },
     "execution_count": 26,
     "metadata": {},
     "output_type": "execute_result"
    },
    {
     "data": {
      "image/png": "[encoded data removed]",
      "text/plain": [
       "<matplotlib.figure.Figure at 0x7f72049189e8>"
      ]
     },
     "metadata": {
      "image/png": {
       "height": 258,
       "width": 402
      }
     },
     "output_type": "display_data"
    }
   ],
   "source": [
    "stoppers_df_clean['connect'].plot(kind='hist', bins=np.arange(0,1000,25))"
   ]
  },
  {
   "cell_type": "code",
   "execution_count": 27,
   "metadata": {
    "collapsed": false
   },
   "outputs": [
    {
     "data": {
      "text/plain": [
       "<matplotlib.text.Text at 0x7f7200ef5390>"
      ]
     },
     "execution_count": 27,
     "metadata": {},
     "output_type": "execute_result"
    },
    {
     "data": {
      "image/png": "[encoded data removed]",
      "text/plain": [
       "<matplotlib.figure.Figure at 0x7f7200f717b8>"
      ]
     },
     "metadata": {
      "image/png": {
       "height": 287,
       "width": 410
      }
     },
     "output_type": "display_data"
    }
   ],
   "source": [
    "_data = stoppers_df_clean['connect'].as_matrix()\n",
    "fig = plt.figure()\n",
    "ax = fig.add_subplot(111)\n",
    "ax.hist(_data, normed=True, bins=np.arange(0,1000,25))\n",
    "ax.set_title(\"Connection time\")\n",
    "ax.set_xlabel(\"Milliseconds\")\n",
    "ax.set_ylabel(\"Normalized density\")"
   ]
  },
  {
   "cell_type": "code",
   "execution_count": 28,
   "metadata": {
    "collapsed": false
   },
   "outputs": [
    {
     "data": {
      "text/html": [
       "<div>\n",
       "<table border=\"1\" class=\"dataframe\">\n",
       "  <thead>\n",
       "    <tr style=\"text-align: right;\">\n",
       "      <th></th>\n",
       "      <th>connect</th>\n",
       "      <th>dns</th>\n",
       "      <th>ssl</th>\n",
       "      <th>wait</th>\n",
       "    </tr>\n",
       "  </thead>\n",
       "  <tbody>\n",
       "    <tr>\n",
       "      <th>count</th>\n",
       "      <td>1151.000000</td>\n",
       "      <td>1151.000000</td>\n",
       "      <td>1151.000000</td>\n",
       "      <td>1151.000000</td>\n",
       "    </tr>\n",
       "    <tr>\n",
       "      <th>mean</th>\n",
       "      <td>182.709516</td>\n",
       "      <td>176.627490</td>\n",
       "      <td>71.454324</td>\n",
       "      <td>395.762308</td>\n",
       "    </tr>\n",
       "    <tr>\n",
       "      <th>std</th>\n",
       "      <td>245.427672</td>\n",
       "      <td>274.765574</td>\n",
       "      <td>199.979281</td>\n",
       "      <td>620.154483</td>\n",
       "    </tr>\n",
       "    <tr>\n",
       "      <th>min</th>\n",
       "      <td>0.576000</td>\n",
       "      <td>0.000000</td>\n",
       "      <td>-1.000000</td>\n",
       "      <td>1.402000</td>\n",
       "    </tr>\n",
       "    <tr>\n",
       "      <th>25%</th>\n",
       "      <td>32.528500</td>\n",
       "      <td>17.222500</td>\n",
       "      <td>-1.000000</td>\n",
       "      <td>106.582000</td>\n",
       "    </tr>\n",
       "    <tr>\n",
       "      <th>50%</th>\n",
       "      <td>157.720000</td>\n",
       "      <td>76.878000</td>\n",
       "      <td>-1.000000</td>\n",
       "      <td>206.507999</td>\n",
       "    </tr>\n",
       "    <tr>\n",
       "      <th>75%</th>\n",
       "      <td>201.945000</td>\n",
       "      <td>210.063000</td>\n",
       "      <td>32.626000</td>\n",
       "      <td>417.026000</td>\n",
       "    </tr>\n",
       "    <tr>\n",
       "      <th>max</th>\n",
       "      <td>4436.960001</td>\n",
       "      <td>2661.007000</td>\n",
       "      <td>3979.796000</td>\n",
       "      <td>6569.305000</td>\n",
       "    </tr>\n",
       "  </tbody>\n",
       "</table>\n",
       "</div>"
      ],
      "text/plain": [
       "           connect          dns          ssl         wait\n",
       "count  1151.000000  1151.000000  1151.000000  1151.000000\n",
       "mean    182.709516   176.627490    71.454324   395.762308\n",
       "std     245.427672   274.765574   199.979281   620.154483\n",
       "min       0.576000     0.000000    -1.000000     1.402000\n",
       "25%      32.528500    17.222500    -1.000000   106.582000\n",
       "50%     157.720000    76.878000    -1.000000   206.507999\n",
       "75%     201.945000   210.063000    32.626000   417.026000\n",
       "max    4436.960001  2661.007000  3979.796000  6569.305000"
      ]
     },
     "execution_count": 28,
     "metadata": {},
     "output_type": "execute_result"
    }
   ],
   "source": [
    "stoppers_df_clean.describe()"
   ]
  },
  {
   "cell_type": "markdown",
   "metadata": {},
   "source": [
    "≽ There seems to be two modes. My guess for those are some sites are in EE.UU. (same place where the browser that made the measurements is located) and som are in Europe."
   ]
  },
  {
   "cell_type": "markdown",
   "metadata": {},
   "source": [
    "### How the total times are distributed for connections without SSL"
   ]
  },
  {
   "cell_type": "code",
   "execution_count": 29,
   "metadata": {
    "collapsed": false
   },
   "outputs": [
    {
     "data": {
      "text/html": [
       "<div>\n",
       "<table border=\"1\" class=\"dataframe\">\n",
       "  <thead>\n",
       "    <tr style=\"text-align: right;\">\n",
       "      <th></th>\n",
       "      <th>connect</th>\n",
       "      <th>dns</th>\n",
       "      <th>ssl</th>\n",
       "      <th>wait</th>\n",
       "    </tr>\n",
       "  </thead>\n",
       "  <tbody>\n",
       "    <tr>\n",
       "      <th>1</th>\n",
       "      <td>44.974</td>\n",
       "      <td>192.953000</td>\n",
       "      <td>-1</td>\n",
       "      <td>275.657</td>\n",
       "    </tr>\n",
       "    <tr>\n",
       "      <th>2</th>\n",
       "      <td>166.749</td>\n",
       "      <td>182.938000</td>\n",
       "      <td>-1</td>\n",
       "      <td>166.886</td>\n",
       "    </tr>\n",
       "    <tr>\n",
       "      <th>3</th>\n",
       "      <td>8.034</td>\n",
       "      <td>246.746000</td>\n",
       "      <td>-1</td>\n",
       "      <td>123.576</td>\n",
       "    </tr>\n",
       "    <tr>\n",
       "      <th>4</th>\n",
       "      <td>24.032</td>\n",
       "      <td>1.269001</td>\n",
       "      <td>-1</td>\n",
       "      <td>30.242</td>\n",
       "    </tr>\n",
       "    <tr>\n",
       "      <th>8</th>\n",
       "      <td>175.758</td>\n",
       "      <td>455.540000</td>\n",
       "      <td>-1</td>\n",
       "      <td>232.651</td>\n",
       "    </tr>\n",
       "  </tbody>\n",
       "</table>\n",
       "</div>"
      ],
      "text/plain": [
       "   connect         dns  ssl     wait\n",
       "1   44.974  192.953000   -1  275.657\n",
       "2  166.749  182.938000   -1  166.886\n",
       "3    8.034  246.746000   -1  123.576\n",
       "4   24.032    1.269001   -1   30.242\n",
       "8  175.758  455.540000   -1  232.651"
      ]
     },
     "execution_count": 29,
     "metadata": {},
     "output_type": "execute_result"
    }
   ],
   "source": [
    "stoppers_nossl_clean = stoppers_df_clean.query('ssl == -1')\n",
    "stoppers_nossl_clean[:5]"
   ]
  },
  {
   "cell_type": "code",
   "execution_count": 30,
   "metadata": {
    "collapsed": false
   },
   "outputs": [
    {
     "data": {
      "text/plain": [
       "1    237.927\n",
       "2    349.687\n",
       "3    254.780\n",
       "4     25.301\n",
       "8    631.298\n",
       "dtype: float64"
      ]
     },
     "execution_count": 30,
     "metadata": {},
     "output_type": "execute_result"
    }
   ],
   "source": [
    "full_nossl_stoppers = (\n",
    "    stoppers_nossl_clean['connect']+stoppers_nossl_clean['dns']\n",
    ")\n",
    "full_nossl_stoppers[:5]"
   ]
  },
  {
   "cell_type": "code",
   "execution_count": 31,
   "metadata": {
    "collapsed": false
   },
   "outputs": [
    {
     "data": {
      "text/plain": [
       "count     763.000000\n",
       "mean      308.526966\n",
       "std       317.086266\n",
       "min         1.459000\n",
       "5%         17.092600\n",
       "10%        24.941600\n",
       "25%        90.488500\n",
       "50%       216.578000\n",
       "75%       405.002000\n",
       "80%       481.743000\n",
       "90%       677.265800\n",
       "95%       875.118801\n",
       "max      2595.431000\n",
       "dtype: float64"
      ]
     },
     "execution_count": 31,
     "metadata": {},
     "output_type": "execute_result"
    }
   ],
   "source": [
    "full_nossl_stoppers.describe(percentiles=[0.05, 0.10, 0.25, 0.50, 0.75, 0.80, 0.90, 0.95])"
   ]
  },
  {
   "cell_type": "code",
   "execution_count": 32,
   "metadata": {
    "collapsed": false
   },
   "outputs": [
    {
     "data": {
      "text/plain": [
       "<matplotlib.text.Text at 0x7f7200df1390>"
      ]
     },
     "execution_count": 32,
     "metadata": {},
     "output_type": "execute_result"
    },
    {
     "data": {
      "image/png": "[encoded data removed]",
      "text/plain": [
       "<matplotlib.figure.Figure at 0x7f7200e87fd0>"
      ]
     },
     "metadata": {
      "image/png": {
       "height": 287,
       "width": 415
      }
     },
     "output_type": "display_data"
    }
   ],
   "source": [
    "_data = full_nossl_stoppers.as_matrix()\n",
    "fig = plt.figure()\n",
    "ax = fig.add_subplot(111)\n",
    "ax.hist(_data, normed=True, bins=np.arange(0,1000,25))\n",
    "ax.set_title(\"Time for first byte of requests, no SSL\")\n",
    "ax.set_xlabel(\"Milliseconds\")\n",
    "ax.set_ylabel(\"Normalized density\")"
   ]
  },
  {
   "cell_type": "markdown",
   "metadata": {},
   "source": [
    "### How the total times are distributed for connections with SSL"
   ]
  },
  {
   "cell_type": "code",
   "execution_count": 33,
   "metadata": {
    "collapsed": false
   },
   "outputs": [
    {
     "data": {
      "text/html": [
       "<div>\n",
       "<table border=\"1\" class=\"dataframe\">\n",
       "  <thead>\n",
       "    <tr style=\"text-align: right;\">\n",
       "      <th></th>\n",
       "      <th>connect</th>\n",
       "      <th>dns</th>\n",
       "      <th>ssl</th>\n",
       "      <th>wait</th>\n",
       "    </tr>\n",
       "  </thead>\n",
       "  <tbody>\n",
       "    <tr>\n",
       "      <th>0</th>\n",
       "      <td>248.055000</td>\n",
       "      <td>410.190</td>\n",
       "      <td>215.080</td>\n",
       "      <td>35.995999</td>\n",
       "    </tr>\n",
       "    <tr>\n",
       "      <th>5</th>\n",
       "      <td>338.042000</td>\n",
       "      <td>0.783</td>\n",
       "      <td>171.889</td>\n",
       "      <td>583.673000</td>\n",
       "    </tr>\n",
       "    <tr>\n",
       "      <th>6</th>\n",
       "      <td>364.349999</td>\n",
       "      <td>547.143</td>\n",
       "      <td>192.664</td>\n",
       "      <td>172.649000</td>\n",
       "    </tr>\n",
       "    <tr>\n",
       "      <th>7</th>\n",
       "      <td>74.965999</td>\n",
       "      <td>33.080</td>\n",
       "      <td>66.908</td>\n",
       "      <td>51.791000</td>\n",
       "    </tr>\n",
       "    <tr>\n",
       "      <th>9</th>\n",
       "      <td>26.235000</td>\n",
       "      <td>1.444</td>\n",
       "      <td>19.094</td>\n",
       "      <td>31.299000</td>\n",
       "    </tr>\n",
       "  </tbody>\n",
       "</table>\n",
       "</div>"
      ],
      "text/plain": [
       "      connect      dns      ssl        wait\n",
       "0  248.055000  410.190  215.080   35.995999\n",
       "5  338.042000    0.783  171.889  583.673000\n",
       "6  364.349999  547.143  192.664  172.649000\n",
       "7   74.965999   33.080   66.908   51.791000\n",
       "9   26.235000    1.444   19.094   31.299000"
      ]
     },
     "execution_count": 33,
     "metadata": {},
     "output_type": "execute_result"
    }
   ],
   "source": [
    "stoppers_ssl_clean = stoppers_df_clean.query('ssl > 0')\n",
    "stoppers_ssl_clean[:5]"
   ]
  },
  {
   "cell_type": "markdown",
   "metadata": {},
   "source": [
    "#### SSL connection time"
   ]
  },
  {
   "cell_type": "code",
   "execution_count": 34,
   "metadata": {
    "collapsed": false
   },
   "outputs": [
    {
     "data": {
      "text/plain": [
       "<matplotlib.axes._subplots.AxesSubplot at 0x7f7200d6dbe0>"
      ]
     },
     "execution_count": 34,
     "metadata": {},
     "output_type": "execute_result"
    },
    {
     "data": {
      "image/png": "[encoded data removed]",
      "text/plain": [
       "<matplotlib.figure.Figure at 0x7f7200db10b8>"
      ]
     },
     "metadata": {
      "image/png": {
       "height": 258,
       "width": 396
      }
     },
     "output_type": "display_data"
    }
   ],
   "source": [
    "stoppers_ssl_clean['ssl'].plot(kind='hist', bins=np.arange(0,1000,25))"
   ]
  },
  {
   "cell_type": "code",
   "execution_count": 35,
   "metadata": {
    "collapsed": false
   },
   "outputs": [
    {
     "data": {
      "text/plain": [
       "count     388.000000\n",
       "mean      213.935379\n",
       "std       296.875515\n",
       "min         9.387000\n",
       "25%        32.193000\n",
       "50%       157.536500\n",
       "75%       313.120250\n",
       "max      3979.796000\n",
       "Name: ssl, dtype: float64"
      ]
     },
     "execution_count": 35,
     "metadata": {},
     "output_type": "execute_result"
    }
   ],
   "source": [
    "stoppers_ssl_clean['ssl'].describe()"
   ]
  },
  {
   "cell_type": "markdown",
   "metadata": {},
   "source": [
    "#### All the time that clients communicating via SSL need to wait before issuing the first request"
   ]
  },
  {
   "cell_type": "code",
   "execution_count": 36,
   "metadata": {
    "collapsed": false
   },
   "outputs": [
    {
     "data": {
      "text/plain": [
       "0     873.325001\n",
       "5     510.714000\n",
       "6    1104.157000\n",
       "7     174.954000\n",
       "9      46.773000\n",
       "dtype: float64"
      ]
     },
     "execution_count": 36,
     "metadata": {},
     "output_type": "execute_result"
    }
   ],
   "source": [
    "full_stoppers = (\n",
    "    stoppers_ssl_clean['ssl']+stoppers_ssl_clean['connect']+stoppers_ssl_clean['dns']\n",
    ")\n",
    "full_stoppers[:5]"
   ]
  },
  {
   "cell_type": "code",
   "execution_count": 37,
   "metadata": {
    "collapsed": false
   },
   "outputs": [
    {
     "data": {
      "text/plain": [
       "count     388.000000\n",
       "mean      673.190067\n",
       "std       765.692759\n",
       "min        36.078000\n",
       "5%         49.747650\n",
       "10%        68.972600\n",
       "25%       113.160000\n",
       "50%       513.419000\n",
       "75%       969.809500\n",
       "80%      1110.823000\n",
       "90%      1476.443700\n",
       "95%      1829.102000\n",
       "max      8416.813000\n",
       "dtype: float64"
      ]
     },
     "execution_count": 37,
     "metadata": {},
     "output_type": "execute_result"
    }
   ],
   "source": [
    "full_stoppers.describe(percentiles=[0.05, 0.10, 0.25, 0.50, 0.75, 0.80, 0.90, 0.95])"
   ]
  },
  {
   "cell_type": "markdown",
   "metadata": {},
   "source": [
    "That is, the mean time is well over half a second.The difference of mean with the connections that don't use SSL is 673 - 459 = 214, very close to the mean SSL connection time."
   ]
  },
  {
   "cell_type": "code",
   "execution_count": 38,
   "metadata": {
    "collapsed": false
   },
   "outputs": [
    {
     "data": {
      "text/plain": [
       "<matplotlib.axes._subplots.AxesSubplot at 0x7f7200c23e48>"
      ]
     },
     "execution_count": 38,
     "metadata": {},
     "output_type": "execute_result"
    },
    {
     "data": {
      "image/png": "[encoded data removed]",
      "text/plain": [
       "<matplotlib.figure.Figure at 0x7f7200c2ada0>"
      ]
     },
     "metadata": {
      "image/png": {
       "height": 258,
       "width": 396
      }
     },
     "output_type": "display_data"
    }
   ],
   "source": [
    "full_stoppers.plot(kind='hist', bins=np.arange(0,1500,25))"
   ]
  },
  {
   "cell_type": "code",
   "execution_count": 39,
   "metadata": {
    "collapsed": false
   },
   "outputs": [
    {
     "data": {
      "text/plain": [
       "<matplotlib.text.Text at 0x7f7200b04f98>"
      ]
     },
     "execution_count": 39,
     "metadata": {},
     "output_type": "execute_result"
    },
    {
     "data": {
      "image/png": "[encoded data removed]",
      "text/plain": [
       "<matplotlib.figure.Figure at 0x7f7200b4ca58>"
      ]
     },
     "metadata": {
      "image/png": {
       "height": 287,
       "width": 415
      }
     },
     "output_type": "display_data"
    }
   ],
   "source": [
    "_data = full_stoppers.as_matrix()\n",
    "fig = plt.figure()\n",
    "ax = fig.add_subplot(111)\n",
    "ax.hist(_data, normed=True, bins=np.arange(0,1000,25))\n",
    "ax.set_title(\"Time for first byte of requests, SSL\")\n",
    "ax.set_xlabel(\"Milliseconds\")\n",
    "ax.set_ylabel(\"Normalized density\")"
   ]
  },
  {
   "cell_type": "markdown",
   "metadata": {},
   "source": [
    "## How much time the browser waits"
   ]
  },
  {
   "cell_type": "code",
   "execution_count": 40,
   "metadata": {
    "collapsed": false
   },
   "outputs": [],
   "source": [
    "first_entries_file = dataset[0]"
   ]
  },
  {
   "cell_type": "code",
   "execution_count": 41,
   "metadata": {
    "collapsed": false
   },
   "outputs": [
    {
     "data": {
      "text/plain": [
       "3605.469998903569"
      ]
     },
     "execution_count": 41,
     "metadata": {},
     "output_type": "execute_result"
    }
   ],
   "source": [
    "sum( e['timings']['wait'] for e in first_entries_file['entries'][20:] )"
   ]
  },
  {
   "cell_type": "markdown",
   "metadata": {},
   "source": [
    "### How much waiting time is in the first three seconds"
   ]
  },
  {
   "cell_type": "code",
   "execution_count": 42,
   "metadata": {
    "collapsed": true
   },
   "outputs": [],
   "source": [
    "def total_waiting_for_entries(entries, up_to):\n",
    "    \"\"\"\n",
    "        @param up_to: If the relative starting time of the request is greater than this, \n",
    "                    forget about that\n",
    "    \"\"\"\n",
    "    result = 0\n",
    "    for e in entries:\n",
    "        if e['timings']['rel_start'] < up_to:\n",
    "            result += e['timings']['wait']\n",
    "        else:\n",
    "            # print(e['timings'] )\n",
    "            pass\n",
    "    return result"
   ]
  },
  {
   "cell_type": "markdown",
   "metadata": {},
   "source": [
    "The '3000' below is given in milliseconds. That is, how much the \"wait\" time totals for requests that are done in the first three seconds."
   ]
  },
  {
   "cell_type": "code",
   "execution_count": 43,
   "metadata": {
    "collapsed": false
   },
   "outputs": [],
   "source": [
    "waitings = pd.Series([ total_waiting_for_entries(entries['entries'], 3000) for entries in dataset])"
   ]
  },
  {
   "cell_type": "code",
   "execution_count": 44,
   "metadata": {
    "collapsed": false
   },
   "outputs": [
    {
     "data": {
      "text/plain": [
       "count      1261.000000\n",
       "mean       5893.788092\n",
       "std       16466.981401\n",
       "min           0.624000\n",
       "25%        1225.002997\n",
       "50%        3462.645000\n",
       "75%        6512.701999\n",
       "max      322341.219996\n",
       "dtype: float64"
      ]
     },
     "execution_count": 44,
     "metadata": {},
     "output_type": "execute_result"
    }
   ],
   "source": [
    "waitings.describe()"
   ]
  },
  {
   "cell_type": "markdown",
   "metadata": {},
   "source": [
    "Remember, this waiting time is counted in parallel: if the browser issues 20 requests in the first three seconds, and each request has a waiting timing of half a second, the result will be 20\\*500 = 10000 milliseconds."
   ]
  },
  {
   "cell_type": "markdown",
   "metadata": {},
   "source": [
    "What about average waiting time?"
   ]
  },
  {
   "cell_type": "code",
   "execution_count": 45,
   "metadata": {
    "collapsed": true
   },
   "outputs": [],
   "source": [
    "def average_waiting_for_entries(entries, up_to):\n",
    "    \"\"\"\n",
    "        @param up_to: If the relative starting time of the request is greater than this, \n",
    "                    forget about that\n",
    "    \"\"\"\n",
    "    total = 0\n",
    "    c = 0\n",
    "    for e in entries:\n",
    "        if e['timings']['rel_start'] < up_to:\n",
    "            total += e['timings']['wait']\n",
    "            c += 1\n",
    "    return total/float(c)"
   ]
  },
  {
   "cell_type": "code",
   "execution_count": 46,
   "metadata": {
    "collapsed": false
   },
   "outputs": [],
   "source": [
    "avg_waitings = pd.Series([ average_waiting_for_entries(entries['entries'], 3000) for entries in dataset])"
   ]
  },
  {
   "cell_type": "code",
   "execution_count": 47,
   "metadata": {
    "collapsed": false
   },
   "outputs": [
    {
     "data": {
      "text/plain": [
       "count    1261.000000\n",
       "mean      221.834544\n",
       "std       595.062127\n",
       "min         0.624000\n",
       "25%        32.966692\n",
       "50%        94.100165\n",
       "75%       179.861375\n",
       "max      6569.305000\n",
       "dtype: float64"
      ]
     },
     "execution_count": 47,
     "metadata": {},
     "output_type": "execute_result"
    }
   ],
   "source": [
    "avg_waitings.describe()"
   ]
  },
  {
   "cell_type": "markdown",
   "metadata": {},
   "source": [
    "The number above is the average waiting time for request. "
   ]
  },
  {
   "cell_type": "markdown",
   "metadata": {},
   "source": [
    "### How much waiting time is until the \"load\" event"
   ]
  },
  {
   "cell_type": "code",
   "execution_count": 48,
   "metadata": {
    "collapsed": false
   },
   "outputs": [
    {
     "data": {
      "text/plain": [
       "{'onContentLoad': 1311.8300437927246, 'onLoad': 1910.5799198150635}"
      ]
     },
     "execution_count": 48,
     "metadata": {},
     "output_type": "execute_result"
    }
   ],
   "source": [
    "dataset[0]['pageTimings']"
   ]
  },
  {
   "cell_type": "code",
   "execution_count": 49,
   "metadata": {
    "collapsed": true
   },
   "outputs": [],
   "source": [
    "def average_waiting_until_load(dts):\n",
    "    total = 0\n",
    "    c = 0\n",
    "    up_to = dts['pageTimings']['onLoad']\n",
    "    if up_to is None:\n",
    "        return None\n",
    "    for e in dts['entries']:\n",
    "        if e['timings']['ends_receiving'] < up_to:\n",
    "            total += e['timings']['wait']\n",
    "            c += 1\n",
    "    if c == 0:\n",
    "        # Happens some times, if the onLoad event for some reason is triggered \n",
    "        # before the page is finished fetching. Can happen for special responses,\n",
    "        # e.g. redirects and the link \n",
    "        return None\n",
    "    return total/float(c)\n",
    "\n",
    "def total_waiting_time_until_load(dts):\n",
    "    total = 0\n",
    "    up_to = dts['pageTimings']['onLoad']\n",
    "    if up_to is None:\n",
    "        return None\n",
    "    for e in dts['entries']:\n",
    "        if e['timings']['ends_receiving'] < up_to:\n",
    "            total += e['timings']['wait']\n",
    "    return total"
   ]
  },
  {
   "cell_type": "code",
   "execution_count": 50,
   "metadata": {
    "collapsed": false
   },
   "outputs": [],
   "source": [
    "avg_wait_till_load = pd.Series([average_waiting_until_load(dts) for dts in dataset if average_waiting_until_load(dts) is not None])"
   ]
  },
  {
   "cell_type": "code",
   "execution_count": 51,
   "metadata": {
    "collapsed": false
   },
   "outputs": [
    {
     "data": {
      "text/plain": [
       "count    1133.000000\n",
       "mean      119.194050\n",
       "std       188.260546\n",
       "min         0.000000\n",
       "25%        26.485387\n",
       "50%        77.511536\n",
       "75%       156.177000\n",
       "max      2964.742528\n",
       "dtype: float64"
      ]
     },
     "execution_count": 51,
     "metadata": {},
     "output_type": "execute_result"
    }
   ],
   "source": [
    "avg_wait_till_load.describe()"
   ]
  },
  {
   "cell_type": "code",
   "execution_count": 52,
   "metadata": {
    "collapsed": false
   },
   "outputs": [
    {
     "data": {
      "text/plain": [
       "<matplotlib.text.Text at 0x7f72009f8e10>"
      ]
     },
     "execution_count": 52,
     "metadata": {},
     "output_type": "execute_result"
    },
    {
     "data": {
      "image/png": "[encoded data removed]",
      "text/plain": [
       "<matplotlib.figure.Figure at 0x7f7200a62fd0>"
      ]
     },
     "metadata": {
      "image/png": {
       "height": 287,
       "width": 410
      }
     },
     "output_type": "display_data"
    }
   ],
   "source": [
    "_data = avg_wait_till_load.as_matrix()\n",
    "fig = plt.figure()\n",
    "ax = fig.add_subplot(111)\n",
    "ax.hist(_data, normed=True, bins=np.arange(0,1000,25))\n",
    "ax.set_title(\"Average time waiting\")\n",
    "ax.set_xlabel(\"Milliseconds\")\n",
    "ax.set_ylabel(\"Normalized density\")"
   ]
  },
  {
   "cell_type": "code",
   "execution_count": 53,
   "metadata": {
    "collapsed": true
   },
   "outputs": [],
   "source": [
    "tot_wait_till_load = pd.Series([total_waiting_time_until_load(dts) for dts in dataset])"
   ]
  },
  {
   "cell_type": "code",
   "execution_count": 54,
   "metadata": {
    "collapsed": false
   },
   "outputs": [
    {
     "data": {
      "text/plain": [
       "count      1145.000000\n",
       "mean       6926.033591\n",
       "std       16068.357333\n",
       "min           0.000000\n",
       "25%         718.904999\n",
       "50%        3222.731997\n",
       "75%        7814.526000\n",
       "max      304247.696998\n",
       "dtype: float64"
      ]
     },
     "execution_count": 54,
     "metadata": {},
     "output_type": "execute_result"
    }
   ],
   "source": [
    "tot_wait_till_load.describe()"
   ]
  },
  {
   "cell_type": "markdown",
   "metadata": {},
   "source": [
    "### How much time the browser is exclusively waiting"
   ]
  },
  {
   "cell_type": "code",
   "execution_count": 55,
   "metadata": {
    "collapsed": true
   },
   "outputs": [],
   "source": [
    "def wait_intervals_until_load(dts):\n",
    "    total = 0\n",
    "    up_to = dts['pageTimings']['onLoad']\n",
    "    if up_to is None:\n",
    "        return None\n",
    "    for e in dts['entries']:\n",
    "        timings = e['timings']\n",
    "        if timings['ends_receiving'] < up_to:\n",
    "            connect = timings.get('connect',0)\n",
    "            dns = timings.get('dns', 0)\n",
    "            blocked = timings.get('blocked', 0)\n",
    "            rel_start = timings.get('rel_start')\n",
    "            # Chrome uses '-1' to signal that the timing doesn't apply\n",
    "            if connect < 0:\n",
    "                connect = 0\n",
    "            if dns < 0: \n",
    "                dns = 0\n",
    "            ssl = timings.get('ssl', 0)\n",
    "            if ssl < 0:\n",
    "                ssl = 0\n",
    "            send = timings.get('send')\n",
    "            wait = timings.get('wait')\n",
    "\n",
    "\n",
    "            starts_waiting = rel_start + connect + dns + ssl + send\n",
    "            ends_waiting = starts_waiting + wait\n",
    "            \n",
    "            yield (starts_waiting, ends_waiting)\n",
    "            \n",
    "def disjoint_wait_intervals_until_load(dts):\n",
    "    intervals = list(wait_intervals_until_load(dts))\n",
    "    merged_intervals = merge_interval_sets(intervals)\n",
    "    # The second part of the answer contains the voids, here we are interested \n",
    "    # only in the parts where there was a waiting...\n",
    "    return merged_intervals[0]"
   ]
  },
  {
   "cell_type": "markdown",
   "metadata": {},
   "source": [
    "What about the intervals where data-traffic happens?"
   ]
  },
  {
   "cell_type": "code",
   "execution_count": 56,
   "metadata": {
    "collapsed": true
   },
   "outputs": [],
   "source": [
    "def deduce_interval_optimistic(timings, starts_dtval):\n",
    "    \"\"\"For a given request/response pair, returns the interval \n",
    "       where data is being transferred to the browser \"\"\"\n",
    "    mseconds_start = timings['rel_start']\n",
    "    connect = timings.get('connect',0)\n",
    "    dns = timings.get('dns', 0)\n",
    "    blocked = timings.get('blocked', 0)\n",
    "    # Chrome uses '-1' to signal that the timing doesn't apply\n",
    "    if connect < 0:\n",
    "        connect = 0\n",
    "    if dns < 0: \n",
    "        dns = 0\n",
    "    ssl = timings.get('ssl', 0)\n",
    "    if ssl < 0:\n",
    "        ssl = 0\n",
    "    send = timings.get('send')\n",
    "    wait = timings.get('wait')\n",
    "    receive = timings.get('receive')\n",
    "    \n",
    "    starts_receiving = mseconds_start + connect + dns + ssl + send + wait\n",
    "    ends_receiving = starts_receiving + receive\n",
    "    return (starts_receiving, ends_receiving)\n",
    "\n",
    "def summarize_intervals_from_entries(dts):\n",
    "    \"\"\"\n",
    "    Returns a set of merged intervals where there is \n",
    "    data transfer from the server to the browser.\n",
    "    \"\"\"\n",
    "    entries = dts['entries']\n",
    "    if len(entries) <= 2:\n",
    "        return None\n",
    "    # returns a data frame with the void times, their lengths, \n",
    "    # the void_end and so so...\n",
    "    all_file_intervals = [\n",
    "        deduce_interval_optimistic(entry['timings'], entry['startedDateTime'])\n",
    "        for entry in entries\n",
    "    ]\n",
    "    # Two sets of complimentary, non overlapping intervals. \n",
    "    # The first set (non overlapping) intervals represents when data is being received \n",
    "    # from the server. The second set  represents when no data is being received.\n",
    "    data_traffic_intervals, void_intervals = merge_interval_sets(all_file_intervals)\n",
    "    return data_traffic_intervals"
   ]
  },
  {
   "cell_type": "markdown",
   "metadata": {},
   "source": [
    "Let's compute the intervals for the first set just to see that the calculations make sense:"
   ]
  },
  {
   "cell_type": "code",
   "execution_count": 57,
   "metadata": {
    "collapsed": false
   },
   "outputs": [
    {
     "data": {
      "text/plain": [
       "[(755.135999172926, 806.6849999576802),\n",
       " (855.605000577867, 947.1300000548364),\n",
       " (979.33999979496, 1042.2140003219251),\n",
       " (1045.553001128137, 1239.5879996344447)]"
      ]
     },
     "execution_count": 57,
     "metadata": {},
     "output_type": "execute_result"
    }
   ],
   "source": [
    "wait_intervals = disjoint_wait_intervals_until_load(dataset[0])\n",
    "wait_intervals[:4]"
   ]
  },
  {
   "cell_type": "code",
   "execution_count": 58,
   "metadata": {
    "collapsed": false
   },
   "outputs": [
    {
     "data": {
      "text/plain": [
       "[(781.1789994761343, 782.8819367736577),\n",
       " (788.6800003424287, 789.0669974684715),\n",
       " (795.882000371814, 796.6599555388093),\n",
       " (802.104999423027, 804.4668221399189)]"
      ]
     },
     "execution_count": 58,
     "metadata": {},
     "output_type": "execute_result"
    }
   ],
   "source": [
    "data_transfer_intervals = summarize_intervals_from_entries(dataset[0])\n",
    "data_transfer_intervals[:4]"
   ]
  },
  {
   "cell_type": "code",
   "execution_count": 59,
   "metadata": {
    "collapsed": false
   },
   "outputs": [
    {
     "data": {
      "text/plain": [
       "[(755.135999172926, 781.1789994761343),\n",
       " (782.8819367736577, 788.6800003424287),\n",
       " (789.0669974684715, 795.882000371814),\n",
       " (796.6599555388093, 802.104999423027)]"
      ]
     },
     "execution_count": 59,
     "metadata": {},
     "output_type": "execute_result"
    }
   ],
   "source": [
    "list( diff_interval_sets(wait_intervals, data_transfer_intervals) )[:4]"
   ]
  },
  {
   "cell_type": "markdown",
   "metadata": {},
   "source": [
    "Exclusively waiting total (before the load event):"
   ]
  },
  {
   "cell_type": "code",
   "execution_count": 60,
   "metadata": {
    "collapsed": true
   },
   "outputs": [],
   "source": [
    "def exclusively_waiting_total(dts):\n",
    "    wait_intervals = disjoint_wait_intervals_until_load(dts)\n",
    "    data_transfer_intervals = summarize_intervals_from_entries(dataset[0])\n",
    "    exclusively_waiting_intervals = diff_interval_sets(wait_intervals, data_transfer_intervals)\n",
    "    \n",
    "    s = 0.0\n",
    "    for (a,b) in exclusively_waiting_intervals:\n",
    "        s += (b - a)\n",
    "    return s"
   ]
  },
  {
   "cell_type": "code",
   "execution_count": 61,
   "metadata": {
    "collapsed": false
   },
   "outputs": [
    {
     "data": {
      "text/plain": [
       "652.7602814957474"
      ]
     },
     "execution_count": 61,
     "metadata": {},
     "output_type": "execute_result"
    }
   ],
   "source": [
    "exclusively_waiting_total(dataset[5])"
   ]
  },
  {
   "cell_type": "markdown",
   "metadata": {},
   "source": [
    "Now we can check a distribution for everybody:"
   ]
  },
  {
   "cell_type": "code",
   "execution_count": 62,
   "metadata": {
    "collapsed": true
   },
   "outputs": [],
   "source": [
    "waiting_series = pd.Series([exclusively_waiting_total(dts) for dts in dataset])"
   ]
  },
  {
   "cell_type": "code",
   "execution_count": 63,
   "metadata": {
    "collapsed": false
   },
   "outputs": [
    {
     "data": {
      "text/plain": [
       "count    1261.000000\n",
       "mean     1187.966479\n",
       "std      1319.171288\n",
       "min         0.000000\n",
       "25%       195.649000\n",
       "50%       780.243429\n",
       "75%      1657.775244\n",
       "max      7862.061900\n",
       "dtype: float64"
      ]
     },
     "execution_count": 63,
     "metadata": {},
     "output_type": "execute_result"
    }
   ],
   "source": [
    "waiting_series.describe()"
   ]
  },
  {
   "cell_type": "markdown",
   "metadata": {},
   "source": [
    "How much is that waiting time compared to the load event?"
   ]
  },
  {
   "cell_type": "code",
   "execution_count": 84,
   "metadata": {
    "collapsed": false
   },
   "outputs": [
    {
     "data": {
      "text/plain": [
       "0.2978779370419944"
      ]
     },
     "execution_count": 84,
     "metadata": {},
     "output_type": "execute_result"
    }
   ],
   "source": [
    "def proportion_just_waiting(dts):\n",
    "    exclusively_waiting = exclusively_waiting_total(dts)\n",
    "    load_time = dts['pageTimings']['onLoad']\n",
    "    if load_time is None:\n",
    "        return float('nan')\n",
    "    return exclusively_waiting / load_time\n",
    "\n",
    "proportion_just_waiting(dataset[12])"
   ]
  },
  {
   "cell_type": "code",
   "execution_count": 86,
   "metadata": {
    "collapsed": false
   },
   "outputs": [
    {
     "data": {
      "text/plain": [
       "count    1145.000000\n",
       "mean        0.392320\n",
       "std         0.188519\n",
       "min         0.000000\n",
       "25%         0.246101\n",
       "50%         0.390646\n",
       "75%         0.528817\n",
       "max         0.884145\n",
       "dtype: float64"
      ]
     },
     "execution_count": 86,
     "metadata": {},
     "output_type": "execute_result"
    }
   ],
   "source": [
    "waiting_proportion = pd.Series([proportion_just_waiting(dts) for dts in dataset])\n",
    "waiting_proportion.describe()"
   ]
  },
  {
   "cell_type": "code",
   "execution_count": 98,
   "metadata": {
    "collapsed": false
   },
   "outputs": [
    {
     "data": {
      "text/plain": [
       "<matplotlib.text.Text at 0x7f72007c3c88>"
      ]
     },
     "execution_count": 98,
     "metadata": {},
     "output_type": "execute_result"
    },
    {
     "data": {
      "image/png": "[encoded data removed]",
      "text/plain": [
       "<matplotlib.figure.Figure at 0x7f72007a3390>"
      ]
     },
     "metadata": {
      "image/png": {
       "height": 287,
       "width": 395
      }
     },
     "output_type": "display_data"
    }
   ],
   "source": [
    "_data = waiting_proportion.as_matrix()\n",
    "fig = plt.figure()\n",
    "ax = fig.add_subplot(111)\n",
    "ax.hist(_data, normed=True, bins=np.arange(0,1,0.05))\n",
    "ax.set_title(\"Time exclusively waiting\")\n",
    "ax.set_xlabel(\"Proportion of load time\")\n",
    "ax.set_ylabel(\"Normalized density\")"
   ]
  },
  {
   "cell_type": "markdown",
   "metadata": {},
   "source": [
    "## How much remains unused\n",
    "\n",
    "This section explores which part of the loading time of web pages goes empty, meaning that no data is being received by the browser."
   ]
  },
  {
   "cell_type": "markdown",
   "metadata": {},
   "source": [
    "### Deducing the intervals from the timings\n",
    "\n",
    "Using the 'timings' key in the dataset entries, and the started time, let's deduce an interval as a tuple with the start and end time in milliseconds."
   ]
  },
  {
   "cell_type": "markdown",
   "metadata": {},
   "source": [
    "The function below takes all the intervals, merges and summarizes them. However, instead of looking to the time when data is being received, we look to the part when data is **not** being received. We call those intervals when the browser is not receiving data from the network, *voids*."
   ]
  },
  {
   "cell_type": "markdown",
   "metadata": {},
   "source": [
    "This is how it looks for a single entry in the dataset:"
   ]
  },
  {
   "cell_type": "code",
   "execution_count": 67,
   "metadata": {
    "collapsed": false
   },
   "outputs": [
    {
     "data": {
      "text/plain": [
       "[(781.1789994761343, 782.8819367736577),\n",
       " (788.6800003424287, 789.0669974684715),\n",
       " (795.882000371814, 796.6599555388093),\n",
       " (802.104999423027, 804.4668221399189),\n",
       " (805.353000551462, 807.748070381582)]"
      ]
     },
     "execution_count": 67,
     "metadata": {},
     "output_type": "execute_result"
    }
   ],
   "source": [
    "file_entries = dataset[0]\n",
    "\n",
    "summary = summarize_intervals_from_entries(file_entries)\n",
    "summary[:5]"
   ]
  },
  {
   "cell_type": "markdown",
   "metadata": {},
   "source": [
    "In the list above, the numbers represent milliseconds since the start of the page fetch. Each tuple is a separate interval where the browser is receiving data."
   ]
  },
  {
   "cell_type": "markdown",
   "metadata": {},
   "source": [
    "## Shimmercat data"
   ]
  },
  {
   "cell_type": "code",
   "execution_count": 87,
   "metadata": {
    "collapsed": true
   },
   "outputs": [],
   "source": [
    "def clean_entry(src_entry):\n",
    "    trg_entry = {}\n",
    "    trg_entry['timings'] = src_entry['timings']\n",
    "    trg_entry['startedDateTime'] = src_entry['startedDateTime']\n",
    "    trg_entry['transferSize'] = src_entry['response']['_transferSize']\n",
    "    \n",
    "    return trg_entry\n",
    "\n",
    "def clean_har_record(har_record):\n",
    "    entries = har_record['entries']\n",
    "    clean_entries = []\n",
    "    is_first_entry = True \n",
    "    for e in entries:\n",
    "        ee = clean_entry(e)\n",
    "        if is_first_entry:\n",
    "            timing_ref = e['pageref']\n",
    "            for page in har_record['pages']:\n",
    "                if page['id'] == timing_ref:\n",
    "                    timing_data = page['pageTimings']\n",
    "            is_first_entry = False\n",
    "        clean_entries.append( ee )\n",
    "    obj = {\n",
    "        'entries': clean_entries,\n",
    "        'pageTimings': timing_data\n",
    "    }\n",
    "    return obj\n",
    "\n",
    "def fetch_and_standardize_entries(filename):\n",
    "    data = json.load(open(filename))['log']\n",
    "    decorate_all_timing_entries(data)\n",
    "    o_data = clean_har_record(data)\n",
    "    return o_data"
   ]
  },
  {
   "cell_type": "code",
   "execution_count": 88,
   "metadata": {
    "collapsed": false
   },
   "outputs": [
    {
     "data": {
      "text/plain": [
       "13.827609755070423"
      ]
     },
     "execution_count": 88,
     "metadata": {},
     "output_type": "execute_result"
    }
   ],
   "source": [
    "shimmercat_data = fetch_and_standardize_entries( 'data/www.shimmercat.com.har' ) \n",
    "\n",
    "average_waiting_until_load(shimmercat_data)"
   ]
  },
  {
   "cell_type": "code",
   "execution_count": 89,
   "metadata": {
    "collapsed": false
   },
   "outputs": [
    {
     "data": {
      "text/plain": [
       "0.09932061822044232"
      ]
     },
     "execution_count": 89,
     "metadata": {},
     "output_type": "execute_result"
    }
   ],
   "source": [
    "proportion_just_waiting(shimmercat_data)"
   ]
  },
  {
   "cell_type": "markdown",
   "metadata": {},
   "source": [
    "## Data for some other sites"
   ]
  },
  {
   "cell_type": "code",
   "execution_count": 90,
   "metadata": {
    "collapsed": false
   },
   "outputs": [
    {
     "data": {
      "text/plain": [
       "0.47653730750799056"
      ]
     },
     "execution_count": 90,
     "metadata": {},
     "output_type": "execute_result"
    }
   ],
   "source": [
    "wikipedia_data = fetch_and_standardize_entries( 'data/en.wikipedia.org.har' )\n",
    "\n",
    "proportion_just_waiting(wikipedia_data)"
   ]
  },
  {
   "cell_type": "code",
   "execution_count": 91,
   "metadata": {
    "collapsed": false
   },
   "outputs": [
    {
     "data": {
      "text/plain": [
       "0.2824579220730195"
      ]
     },
     "execution_count": 91,
     "metadata": {},
     "output_type": "execute_result"
    }
   ],
   "source": [
    "so_data = fetch_and_standardize_entries('data/stackoverflow.com.har')\n",
    "\n",
    "proportion_just_waiting(so_data)"
   ]
  },
  {
   "cell_type": "code",
   "execution_count": 92,
   "metadata": {
    "collapsed": false
   },
   "outputs": [
    {
     "data": {
      "text/plain": [
       "0.11885837530498636"
      ]
     },
     "execution_count": 92,
     "metadata": {},
     "output_type": "execute_result"
    }
   ],
   "source": [
    "mozilla_data = fetch_and_standardize_entries('data/developer.mozilla.org.har')\n",
    "proportion_just_waiting(mozilla_data)"
   ]
  },
  {
   "cell_type": "code",
   "execution_count": 93,
   "metadata": {
    "collapsed": false
   },
   "outputs": [
    {
     "data": {
      "text/plain": [
       "1141.3018913536798"
      ]
     },
     "execution_count": 93,
     "metadata": {},
     "output_type": "execute_result"
    }
   ],
   "source": [
    "exclusively_waiting_total(mozilla_data)"
   ]
  },
  {
   "cell_type": "code",
   "execution_count": 94,
   "metadata": {
    "collapsed": false
   },
   "outputs": [
    {
     "data": {
      "text/plain": [
       "175.49685073934975"
      ]
     },
     "execution_count": 94,
     "metadata": {},
     "output_type": "execute_result"
    }
   ],
   "source": [
    "exclusively_waiting_total(shimmercat_data)"
   ]
  },
  {
   "cell_type": "code",
   "execution_count": 95,
   "metadata": {
    "collapsed": false
   },
   "outputs": [
    {
     "data": {
      "text/plain": [
       "1472.8008534681883"
      ]
     },
     "execution_count": 95,
     "metadata": {},
     "output_type": "execute_result"
    }
   ],
   "source": [
    "exclusively_waiting_total(so_data)"
   ]
  },
  {
   "cell_type": "code",
   "execution_count": 96,
   "metadata": {
    "collapsed": false
   },
   "outputs": [
    {
     "data": {
      "text/plain": [
       "518.7080000001589"
      ]
     },
     "execution_count": 96,
     "metadata": {},
     "output_type": "execute_result"
    }
   ],
   "source": [
    "exclusively_waiting_total(wikipedia_data)"
   ]
  },
  {
   "cell_type": "code",
   "execution_count": null,
   "metadata": {
    "collapsed": true
   },
   "outputs": [],
   "source": []
  }
 ],
 "metadata": {
  "kernelspec": {
   "display_name": "Python 3",
   "language": "python",
   "name": "python3"
  },
  "language_info": {
   "codemirror_mode": {
    "name": "ipython",
    "version": 3
   },
   "file_extension": ".py",
   "mimetype": "text/x-python",
   "name": "python",
   "nbconvert_exporter": "python",
   "pygments_lexer": "ipython3",
   "version": "3.4.3"
  }
 },
 "nbformat": 4,
 "nbformat_minor": 0
}
